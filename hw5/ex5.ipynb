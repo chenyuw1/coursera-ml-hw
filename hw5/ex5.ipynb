{
 "cells": [
  {
   "cell_type": "code",
   "execution_count": 1,
   "metadata": {},
   "outputs": [],
   "source": [
    "import numpy as np\n",
    "import pandas as pd\n",
    "import matplotlib.pyplot as plt\n",
    "\n",
    "from scipy.io import loadmat\n",
    "from scipy.optimize import fmin_cg\n",
    "\n",
    "import copy\n",
    "\n",
    "%matplotlib inline"
   ]
  },
  {
   "cell_type": "code",
   "execution_count": 2,
   "metadata": {},
   "outputs": [],
   "source": [
    "loc = r'C:\\Users\\c0w00f8.WMSC\\Documents\\Coursera\\1. Machine Learning\\machine-learning-ex5\\ex5\\ex5data1.mat'\n",
    "mat = loadmat(loc)"
   ]
  },
  {
   "cell_type": "code",
   "execution_count": 3,
   "metadata": {},
   "outputs": [],
   "source": [
    "x = mat['X']\n",
    "y = mat['y']\n",
    "xtest = mat['Xtest']\n",
    "ytest = mat['ytest']\n",
    "xval = mat['Xval']\n",
    "yval = mat['yval']"
   ]
  },
  {
   "cell_type": "code",
   "execution_count": 4,
   "metadata": {},
   "outputs": [
    {
     "data": {
      "image/png": "[encoded data removed]",
      "text/plain": [
       "<Figure size 432x288 with 1 Axes>"
      ]
     },
     "metadata": {},
     "output_type": "display_data"
    }
   ],
   "source": [
    "# visualize the training data\n",
    "fig = plt.figure()\n",
    "ax = fig.add_subplot(1, 1, 1)\n",
    "title = ax.set_title('Training Data')\n",
    "plot = ax.scatter(x, y, marker='x', c='red')\n",
    "xlabel = ax.set_xlabel('Change in water level(x)')\n",
    "ylabel = ax.set_ylabel('Water flowing out of the dam (y)')"
   ]
  },
  {
   "cell_type": "code",
   "execution_count": 5,
   "metadata": {},
   "outputs": [],
   "source": [
    "# regularized linear reg cost\n",
    "def costReg(theta, x, y, lam):\n",
    "    # add x0 to x\n",
    "    x = np.insert(x, 0, 1, axis = 1)\n",
    "    m = x.shape[0]\n",
    "    \n",
    "    hx = np.dot(x, theta.T)\n",
    "    loss = hx - y.flatten()\n",
    "    \n",
    "    j = (loss ** 2).sum() / 2 / m\n",
    "    theta_reg = copy.copy(theta)\n",
    "    theta_reg[0] = 0\n",
    "    reg = (theta_reg ** 2).sum() * lam / 2 / m\n",
    "    \n",
    "    return j + reg"
   ]
  },
  {
   "cell_type": "code",
   "execution_count": 6,
   "metadata": {},
   "outputs": [
    {
     "data": {
      "text/plain": [
       "303.9931922202643"
      ]
     },
     "execution_count": 6,
     "metadata": {},
     "output_type": "execute_result"
    }
   ],
   "source": [
    "# test costReg\n",
    "lam = 1\n",
    "theta = np.ones(2)\n",
    "testc = costReg(theta, x, y, lam)\n",
    "testc"
   ]
  },
  {
   "cell_type": "code",
   "execution_count": 7,
   "metadata": {},
   "outputs": [],
   "source": [
    "# regularized linear reg gradient\n",
    "def gradReg(theta, x, y, lam):\n",
    "    x = np.insert(x, 0, 1, axis = 1)\n",
    "    m = x.shape[0]\n",
    "    \n",
    "    hx = np.dot(x, theta.T)\n",
    "    loss = hx - y .flatten()\n",
    "    \n",
    "    grad = np.dot(loss.T, x) / m + theta * lam / m\n",
    "    grad[0] = np.dot(loss.T, x[:, 0]) / m\n",
    "    \n",
    "    return grad"
   ]
  },
  {
   "cell_type": "code",
   "execution_count": 8,
   "metadata": {},
   "outputs": [
    {
     "data": {
      "text/plain": [
       "array([-15.30301567, 598.25074417])"
      ]
     },
     "execution_count": 8,
     "metadata": {},
     "output_type": "execute_result"
    }
   ],
   "source": [
    "# test gradReg\n",
    "testg = gradReg(theta, x, y, lam)\n",
    "testg"
   ]
  },
  {
   "cell_type": "code",
   "execution_count": 46,
   "metadata": {},
   "outputs": [],
   "source": [
    "def trainLinearReg(x, y, lam):\n",
    "    # initialize theta\n",
    "    theta = np.ones(x.shape[1] + 1)\n",
    "    myargs = (x, y, lam)\n",
    "    \n",
    "    #train = fmin_cg(costReg, theta, args = myargs, fprime = gradReg)\n",
    "    \n",
    "    # without convergence message\n",
    "    train = fmin_cg(costReg, theta, args = myargs, fprime = gradReg, disp=0)\n",
    "    \n",
    "    return train"
   ]
  },
  {
   "cell_type": "code",
   "execution_count": 10,
   "metadata": {},
   "outputs": [
    {
     "data": {
      "text/plain": [
       "array([13.08790734,  0.36777925])"
      ]
     },
     "execution_count": 10,
     "metadata": {},
     "output_type": "execute_result"
    }
   ],
   "source": [
    "# test train func\n",
    "theta_opt = trainLinearReg(x, y, 0)\n",
    "theta_opt"
   ]
  },
  {
   "cell_type": "code",
   "execution_count": 11,
   "metadata": {},
   "outputs": [],
   "source": [
    "xx = np.array([min(x), max(x)])\n",
    "xx_mat = np.insert(xx, 0, 1, axis = 1)\n",
    "yy = np.dot(xx_mat, theta_opt.T)\n",
    "xx = xx.flatten()"
   ]
  },
  {
   "cell_type": "code",
   "execution_count": 12,
   "metadata": {},
   "outputs": [
    {
     "data": {
      "image/png": "[encoded data removed]",
      "text/plain": [
       "<Figure size 432x288 with 1 Axes>"
      ]
     },
     "metadata": {},
     "output_type": "display_data"
    }
   ],
   "source": [
    "# plot the test fitted line\n",
    "fig = plt.figure()\n",
    "ax = fig.add_subplot(1, 1, 1)\n",
    "title = ax.set_title('Linear Fit')\n",
    "plot = ax.scatter(x, y, marker='x', c='pink')\n",
    "xlabel = ax.set_xlabel('Change in water level(x)')\n",
    "ylabel = ax.set_ylabel('Water flowing out of the dam (y)')\n",
    "line = ax.plot(xx, yy, c='blue')"
   ]
  },
  {
   "cell_type": "code",
   "execution_count": 98,
   "metadata": {},
   "outputs": [],
   "source": [
    "# Bias-variance"
   ]
  },
  {
   "cell_type": "code",
   "execution_count": 13,
   "metadata": {},
   "outputs": [],
   "source": [
    "def learningCurve(x, y, xval, yval, lam):\n",
    "    err_train = np.zeros(x.shape[0])\n",
    "    err_val = np.zeros(x.shape[0])\n",
    "    for i in range(1, x.shape[0]+1):\n",
    "        x_sub = x[:i, :]\n",
    "        y_sub = y[:i, :]\n",
    "        theta_train = trainLinearReg(x_sub, y_sub, lam)\n",
    "        err_train[i-1] = costReg(theta_train, x_sub, y_sub, 0)\n",
    "        err_val[i-1] = costReg(theta_train, xval, yval, 0)\n",
    "        \n",
    "    return err_train, err_val"
   ]
  },
  {
   "cell_type": "code",
   "execution_count": 14,
   "metadata": {},
   "outputs": [
    {
     "data": {
      "text/plain": [
       "(array([4.77260848e-29, 1.47960976e-05, 3.28661532e+00, 2.84268852e+00,\n",
       "        1.31540521e+01, 1.94439654e+01, 2.00985238e+01, 1.81728602e+01,\n",
       "        2.26094067e+01, 2.32614624e+01, 2.43172503e+01, 2.23739071e+01]),\n",
       " array([138.84677698, 110.64762237,  44.97199883,  48.33896411,\n",
       "         35.85853128,  33.82265429,  31.96555141,  30.85861445,\n",
       "         31.13283965,  28.93517405,  29.55104876,  29.433172  ]))"
      ]
     },
     "execution_count": 14,
     "metadata": {},
     "output_type": "execute_result"
    }
   ],
   "source": [
    "err_t, err_v = learningCurve(x, y, xval, yval, 1)\n",
    "err_t, err_v"
   ]
  },
  {
   "cell_type": "code",
   "execution_count": 15,
   "metadata": {},
   "outputs": [
    {
     "data": {
      "text/plain": [
       "<matplotlib.legend.Legend at 0x5489128>"
      ]
     },
     "execution_count": 15,
     "metadata": {},
     "output_type": "execute_result"
    },
    {
     "data": {
      "image/png": "[encoded data removed]",
      "text/plain": [
       "<Figure size 432x288 with 1 Axes>"
      ]
     },
     "metadata": {},
     "output_type": "display_data"
    }
   ],
   "source": [
    "# plot learning curve\n",
    "fig = plt.figure()\n",
    "ax = fig.add_subplot(1, 1, 1)\n",
    "title = ax.set_title('Linear regression learning curve')\n",
    "xlable = ax.set_xlabel('Number of training examples')\n",
    "ylabel = ax.set_ylabel('Error')\n",
    "plot1 = ax.plot(range(1,x.shape[0]+1), err_t, c='green', label='Train')\n",
    "plot2 = ax.plot(range(1,x.shape[0]+1), err_v, c='pink', label='Cross Validation')\n",
    "ax.legend()"
   ]
  },
  {
   "cell_type": "code",
   "execution_count": 117,
   "metadata": {},
   "outputs": [],
   "source": [
    "# Polynomial Regression"
   ]
  },
  {
   "cell_type": "code",
   "execution_count": 16,
   "metadata": {},
   "outputs": [],
   "source": [
    "def polyFeatures(x, p):\n",
    "    x_poly = np.zeros(shape=(x.shape[0], p))\n",
    "    x_poly[:, 0] = x.flatten().T\n",
    "    if p > 1:\n",
    "        for i in range(1,p):\n",
    "            x_poly[:, i] = x.flatten().T ** (i + 1)\n",
    "    else:\n",
    "        print (\"Wrong p value\")\n",
    "        pass\n",
    "    return x_poly"
   ]
  },
  {
   "cell_type": "code",
   "execution_count": 17,
   "metadata": {},
   "outputs": [
    {
     "data": {
      "text/plain": [
       "array([[  1.,   1.,   1.],\n",
       "       [  2.,   4.,   8.],\n",
       "       [  3.,   9.,  27.],\n",
       "       [  4.,  16.,  64.],\n",
       "       [  5.,  25., 125.]])"
      ]
     },
     "execution_count": 17,
     "metadata": {},
     "output_type": "execute_result"
    }
   ],
   "source": [
    "# test polyFeatures func\n",
    "testxx = np.array([1, 2, 3, 4, 5])\n",
    "testxx_poly = polyFeatures(testxx, 3)\n",
    "testxx_poly"
   ]
  },
  {
   "cell_type": "code",
   "execution_count": 18,
   "metadata": {},
   "outputs": [
    {
     "data": {
      "text/plain": [
       "array([[ 0.33333333,  0.25      ,  0.2       ],\n",
       "       [ 0.66666667,  1.        ,  1.6       ],\n",
       "       [ 1.        ,  2.25      ,  5.4       ],\n",
       "       [ 1.33333333,  4.        , 12.8       ],\n",
       "       [ 1.66666667,  6.25      , 25.        ]])"
      ]
     },
     "execution_count": 18,
     "metadata": {},
     "output_type": "execute_result"
    }
   ],
   "source": [
    "testm = np.array([3, 4, 5])\n",
    "testxx_poly / testm"
   ]
  },
  {
   "cell_type": "code",
   "execution_count": 20,
   "metadata": {},
   "outputs": [],
   "source": [
    "# pay attention to axis=0!!!\n",
    "def featureNorm(x):\n",
    "    mean = x.mean(axis = 0)\n",
    "    std = x.std(axis = 0)\n",
    "    x_norm = (x - mean) / std\n",
    "    return x_norm, mean, std"
   ]
  },
  {
   "cell_type": "code",
   "execution_count": 69,
   "metadata": {},
   "outputs": [
    {
     "data": {
      "text/plain": [
       "array([ 11.21758779,   9.13741813,  18.19977433,  28.87502714,\n",
       "       -27.35940177, -74.33824557,   6.99481632,  60.58941475,\n",
       "        20.50070736])"
      ]
     },
     "execution_count": 69,
     "metadata": {},
     "output_type": "execute_result"
    }
   ],
   "source": [
    "# train polynomial regression\n",
    "p = 8\n",
    "lam = 0\n",
    "\n",
    "x_poly = polyFeatures(x, p)\n",
    "x_norm, mean, std = featureNorm(x_poly)\n",
    "\n",
    "xval_poly = polyFeatures(xval, p)\n",
    "xval_norm = (xval_poly - mean) / std\n",
    "\n",
    "xtest_poly = polyFeatures(xtest, p)\n",
    "xtest_norm = (xtest_poly - mean) / std\n",
    "\n",
    "theta_train = trainLinearReg(x_norm, y, lam)\n",
    "theta_train"
   ]
  },
  {
   "cell_type": "code",
   "execution_count": 34,
   "metadata": {},
   "outputs": [],
   "source": [
    "xmin = x.min()\n",
    "xmax = x.max()\n",
    "plotx = np.linspace(xmin-30, xmax+10, num=50)\n",
    "plotx_mat = polyFeatures(plotx, p)\n",
    "plotx_mat = (plotx_mat - mean) / std\n",
    "plotx_mat = np.insert(plotx_mat, 0, 1, axis = 1)\n",
    "ploty = np.dot(plotx_mat, theta_train.T)"
   ]
  },
  {
   "cell_type": "code",
   "execution_count": 35,
   "metadata": {},
   "outputs": [
    {
     "data": {
      "image/png": "[encoded data removed]",
      "text/plain": [
       "<Figure size 432x288 with 1 Axes>"
      ]
     },
     "metadata": {},
     "output_type": "display_data"
    }
   ],
   "source": [
    "# plot the fitted line\n",
    "fig = plt.figure()\n",
    "ax = fig.add_subplot(1, 1, 1)\n",
    "title = ax.set_title('Polynomial fit, lam=0')\n",
    "plotfit = ax.scatter(plotx, ploty, c='pink')\n",
    "plot = ax.scatter(x, y, marker='x', c='red')\n",
    "xlabel = ax.set_xlabel('Change in water level(x)')\n",
    "ylabel = ax.set_ylabel('Water flowing out of the dam (y)')\n"
   ]
  },
  {
   "cell_type": "code",
   "execution_count": 51,
   "metadata": {},
   "outputs": [
    {
     "data": {
      "text/plain": [
       "(array([3.19488667e-29, 4.10330930e-29, 2.05843392e-29, 4.80651032e-09,\n",
       "        2.55721186e-17, 1.80280536e-08, 7.00932848e-08, 3.71279653e-06,\n",
       "        1.18694009e-06, 1.08329072e-02, 3.12189275e-02, 2.88909720e-02]),\n",
       " array([99.52344119, 99.48812827, 58.43562008, 56.70232406,  6.660889  ,\n",
       "        10.68936582, 27.99137557, 22.59907308, 23.74052884, 94.48711137,\n",
       "        50.92631452, 53.76395178]))"
      ]
     },
     "execution_count": 51,
     "metadata": {},
     "output_type": "execute_result"
    }
   ],
   "source": [
    "err_t, err_v = learningCurve(x_norm, y, xval_norm, yval, 0)\n",
    "err_t, err_v"
   ]
  },
  {
   "cell_type": "code",
   "execution_count": 52,
   "metadata": {},
   "outputs": [
    {
     "data": {
      "text/plain": [
       "<matplotlib.legend.Legend at 0x14fa49b0>"
      ]
     },
     "execution_count": 52,
     "metadata": {},
     "output_type": "execute_result"
    },
    {
     "data": {
      "image/png": "[encoded data removed]",
      "text/plain": [
       "<Figure size 432x288 with 1 Axes>"
      ]
     },
     "metadata": {},
     "output_type": "display_data"
    }
   ],
   "source": [
    "# plot learning curve\n",
    "fig = plt.figure()\n",
    "ax = fig.add_subplot(1, 1, 1)\n",
    "title = ax.set_title('Polynomial regression learning curve, lam=0')\n",
    "xlable = ax.set_xlabel('Number of training examples')\n",
    "ylabel = ax.set_ylabel('Error')\n",
    "plot1 = ax.plot(range(1,x.shape[0]+1), err_t, c='green', label='Train')\n",
    "plot2 = ax.plot(range(1,x.shape[0]+1), err_v, c='pink', label='Cross Validation')\n",
    "ax.legend()"
   ]
  },
  {
   "cell_type": "code",
   "execution_count": 53,
   "metadata": {},
   "outputs": [],
   "source": [
    "# pay attention to the error computation\n",
    "# when lambda = 0, the costReg func makes sense here\n",
    "def valCurve(x, y, xval, yval, lam_vec):\n",
    "    err_train = np.zeros(len(lam_vec))\n",
    "    err_val = np.zeros(len(lam_vec))\n",
    "    for i in range(len(lamvec)):\n",
    "        theta_train = trainLinearReg(x, y, lam_vec[i])\n",
    "        err_train[i] = costReg(theta_train, x, y, 0)\n",
    "        err_val[i] = costReg(theta_train, xval, yval, 0)\n",
    "    \n",
    "    return err_train, err_val"
   ]
  },
  {
   "cell_type": "code",
   "execution_count": 54,
   "metadata": {},
   "outputs": [
    {
     "data": {
      "text/plain": [
       "(array([ 0.02889097,  0.10799466,  0.16684447,  0.21799262,  0.27515263,\n",
       "         0.43866093,  0.86814322,  1.9586799 ,  4.52510059, 14.82578286]),\n",
       " array([53.76395178,  9.36109696, 15.94770292, 17.15224455, 13.2157458 ,\n",
       "         7.92677138,  4.7608624 ,  4.26336454,  3.83217057,  8.88969265]))"
      ]
     },
     "execution_count": 54,
     "metadata": {},
     "output_type": "execute_result"
    }
   ],
   "source": [
    "lamvec = np.array([0, 0.001, 0.003, 0.01, 0.03, 0.1, 0.3, 1, 3, 10])\n",
    "err_t, err_v = valCurve(x_norm, y, xval_norm, yval, lamvec)\n",
    "err_t, err_v"
   ]
  },
  {
   "cell_type": "code",
   "execution_count": 62,
   "metadata": {},
   "outputs": [
    {
     "name": "stdout",
     "output_type": "stream",
     "text": [
      "The optimal lambda is: 3.0\n"
     ]
    }
   ],
   "source": [
    "print ('The optimal lambda is:', lamvec[err_v.argmin()])"
   ]
  },
  {
   "cell_type": "code",
   "execution_count": 55,
   "metadata": {},
   "outputs": [
    {
     "data": {
      "text/plain": [
       "<matplotlib.legend.Legend at 0x15004e80>"
      ]
     },
     "execution_count": 55,
     "metadata": {},
     "output_type": "execute_result"
    },
    {
     "data": {
      "image/png": "[encoded data removed]",
      "text/plain": [
       "<Figure size 432x288 with 1 Axes>"
      ]
     },
     "metadata": {},
     "output_type": "display_data"
    }
   ],
   "source": [
    "fig = plt.figure()\n",
    "ax = fig.add_subplot(1, 1, 1)\n",
    "title = ax.set_title('Selecting lambda')\n",
    "xlable = ax.set_xlabel('lambda')\n",
    "ylabel = ax.set_ylabel('Error')\n",
    "plot1 = ax.plot(lamvec, err_t, c='green', label='Train')\n",
    "plot2 = ax.plot(lamvec, err_v, c='pink', label='Cross Validation')\n",
    "ax.legend()"
   ]
  },
  {
   "cell_type": "code",
   "execution_count": 70,
   "metadata": {},
   "outputs": [
    {
     "data": {
      "text/plain": [
       "2.3934182504039505"
      ]
     },
     "execution_count": 70,
     "metadata": {},
     "output_type": "execute_result"
    }
   ],
   "source": [
    "# calculate test error\n",
    "lam_opt = lamvec[err_v.argmin()]\n",
    "theta_test = trainLinearReg(xtest_norm, ytest, lam_opt)\n",
    "err_test = costReg(theta_test, xtest_norm, ytest, 0)\n",
    "err_test"
   ]
  },
  {
   "cell_type": "code",
   "execution_count": 80,
   "metadata": {},
   "outputs": [],
   "source": [
    "# randomly select sample for learning curve\n",
    "def randCurve(x, y, xval, yval, lam):\n",
    "    err_train = np.zeros(x.shape[0])\n",
    "    err_val = np.zeros(x.shape[0])\n",
    "    for i in range(1, x.shape[0]+1):\n",
    "        # generate random index\n",
    "        ind = np.random.choice(x.shape[0], size=i, replace=False)\n",
    "        x_sub = x[ind, :]\n",
    "        y_sub = y[ind, :]\n",
    "        xval_sub = xval[ind, :]\n",
    "        yval_sub = yval[ind, :]\n",
    "\n",
    "        theta_train = trainLinearReg(x_sub, y_sub, lam)\n",
    "        err_train[i-1] = costReg(theta_train, x_sub, y_sub, 0)\n",
    "        #err_val[i-1] = costReg(theta_train, xval_sub, yval_sub, 0)\n",
    "        err_val[i-1] = costReg(theta_train, xval, yval, 0)\n",
    "        \n",
    "    return err_train, err_val"
   ]
  },
  {
   "cell_type": "code",
   "execution_count": 95,
   "metadata": {},
   "outputs": [
    {
     "data": {
      "text/plain": [
       "(array([4.59740987e-12, 1.51281708e-02, 1.05748942e-05, 2.12440361e-02,\n",
       "        8.01212082e-02, 1.13684298e-01, 1.39633987e-01, 1.96581765e-01,\n",
       "        1.73153628e-01, 2.06382532e-01, 2.33914451e-01, 2.17967442e-01]),\n",
       " array([138.86474905, 121.19800715, 123.50785998,  24.43746059,\n",
       "         16.75093644,  20.83470587,  10.28551736,  14.56662115,\n",
       "         15.10066856,   7.36767337,  17.60282361,  17.14542472]))"
      ]
     },
     "execution_count": 95,
     "metadata": {},
     "output_type": "execute_result"
    }
   ],
   "source": [
    "err_t, err_v = randCurve(x_norm, y, xval_norm, yval, 0.01)\n",
    "err_t, err_v"
   ]
  },
  {
   "cell_type": "code",
   "execution_count": 96,
   "metadata": {},
   "outputs": [
    {
     "data": {
      "text/plain": [
       "<matplotlib.legend.Legend at 0x1543c390>"
      ]
     },
     "execution_count": 96,
     "metadata": {},
     "output_type": "execute_result"
    },
    {
     "data": {
      "image/png": "[encoded data removed]",
      "text/plain": [
       "<Figure size 432x288 with 1 Axes>"
      ]
     },
     "metadata": {},
     "output_type": "display_data"
    }
   ],
   "source": [
    "fig = plt.figure()\n",
    "ax = fig.add_subplot(1, 1, 1)\n",
    "title = ax.set_title('Polynomial regression learning curve, lam=0.01')\n",
    "xlable = ax.set_xlabel('Number of training examples')\n",
    "ylabel = ax.set_ylabel('Error')\n",
    "plot1 = ax.plot(range(1,x.shape[0]+1), err_t, c='green', label='Train')\n",
    "plot2 = ax.plot(range(1,x.shape[0]+1), err_v, c='pink', label='Cross Validation')\n",
    "ax.legend()"
   ]
  }
 ],
 "metadata": {
  "kernelspec": {
   "display_name": "Python 3",
   "language": "python",
   "name": "python3"
  },
  "language_info": {
   "codemirror_mode": {
    "name": "ipython",
    "version": 3
   },
   "file_extension": ".py",
   "mimetype": "text/x-python",
   "name": "python",
   "nbconvert_exporter": "python",
   "pygments_lexer": "ipython3",
   "version": "3.6.1"
  }
 },
 "nbformat": 4,
 "nbformat_minor": 2
}
