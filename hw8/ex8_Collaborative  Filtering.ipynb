{
 "cells": [
  {
   "cell_type": "code",
   "execution_count": 46,
   "metadata": {},
   "outputs": [],
   "source": [
    "import numpy as np\n",
    "import matplotlib.pyplot as plt\n",
    "from scipy.io import loadmat\n",
    "from scipy.optimize import fmin_cg\n",
    "import scipy.stats as st\n",
    "import copy\n",
    "\n",
    "%matplotlib inline"
   ]
  },
  {
   "cell_type": "code",
   "execution_count": 2,
   "metadata": {},
   "outputs": [
    {
     "data": {
      "text/plain": [
       "(1682, 943)"
      ]
     },
     "execution_count": 2,
     "metadata": {},
     "output_type": "execute_result"
    }
   ],
   "source": [
    "loc = r'C:\\Users\\c0w00f8.WMSC\\Documents\\Coursera\\1. Machine Learning\\machine-learning-ex8\\ex8\\ex8_movies.mat'\n",
    "movies = loadmat(loc)\n",
    "# y - ratings from 943 users for 1682 movies\n",
    "# r - indicators, whether user j gave movie i a rating\n",
    "movies_y = movies['Y']\n",
    "movies_r = movies['R']\n",
    "movies_y.shape"
   ]
  },
  {
   "cell_type": "code",
   "execution_count": 3,
   "metadata": {},
   "outputs": [
    {
     "data": {
      "text/plain": [
       "3.8783185840707963"
      ]
     },
     "execution_count": 3,
     "metadata": {},
     "output_type": "execute_result"
    }
   ],
   "source": [
    "# avg rating for the first movie\n",
    "# only considers users who gave a rating\n",
    "toyStoreAvgRating = np.mean(movies_y[0, movies_r[0,:]==1])\n",
    "toyStoreAvgRating"
   ]
  },
  {
   "cell_type": "code",
   "execution_count": 4,
   "metadata": {},
   "outputs": [],
   "source": [
    "loc = r'C:\\Users\\c0w00f8.WMSC\\Documents\\Coursera\\1. Machine Learning\\machine-learning-ex8\\ex8\\ex8_movieParams.mat'\n",
    "params = loadmat(loc)\n",
    "params_x = params['X']\n",
    "params_theta = params['Theta']\n",
    "# params_theta.shape - 943 * 10 - flavor of each user\n",
    "# params_x.shape - 1682 * 10 - features of each movie"
   ]
  },
  {
   "cell_type": "code",
   "execution_count": 6,
   "metadata": {},
   "outputs": [],
   "source": [
    "# get a subset\n",
    "num_users = 4\n",
    "num_movies = 5\n",
    "num_features = 3"
   ]
  },
  {
   "cell_type": "code",
   "execution_count": 7,
   "metadata": {},
   "outputs": [],
   "source": [
    "x_sub = params_x[:num_movies, :num_features]\n",
    "theta_sub = params_theta[:num_users, :num_features]\n",
    "y_sub = movies_y[:num_movies, :num_users]\n",
    "r_sub = movies_r[:num_movies, :num_users]"
   ]
  },
  {
   "cell_type": "code",
   "execution_count": 10,
   "metadata": {},
   "outputs": [
    {
     "data": {
      "text/plain": [
       "array([[1, 1, 0, 0],\n",
       "       [1, 0, 0, 0],\n",
       "       [1, 0, 0, 0],\n",
       "       [1, 0, 0, 0],\n",
       "       [1, 0, 0, 0]], dtype=uint8)"
      ]
     },
     "execution_count": 10,
     "metadata": {},
     "output_type": "execute_result"
    }
   ],
   "source": [
    "r_sub"
   ]
  },
  {
   "cell_type": "code",
   "execution_count": 11,
   "metadata": {},
   "outputs": [
    {
     "data": {
      "text/plain": [
       "array([5, 4, 3, 4, 3, 3], dtype=uint8)"
      ]
     },
     "execution_count": 11,
     "metadata": {},
     "output_type": "execute_result"
    }
   ],
   "source": [
    "y_sub[r_sub==1]"
   ]
  },
  {
   "cell_type": "code",
   "execution_count": 12,
   "metadata": {},
   "outputs": [
    {
     "data": {
      "text/plain": [
       "array([[5, 4, 0, 0],\n",
       "       [3, 0, 0, 0],\n",
       "       [4, 0, 0, 0],\n",
       "       [3, 0, 0, 0],\n",
       "       [3, 0, 0, 0]], dtype=uint8)"
      ]
     },
     "execution_count": 12,
     "metadata": {},
     "output_type": "execute_result"
    }
   ],
   "source": [
    "y_sub"
   ]
  },
  {
   "cell_type": "code",
   "execution_count": 13,
   "metadata": {},
   "outputs": [
    {
     "data": {
      "text/plain": [
       "array([[ 0.28544362, -1.68426509,  0.26293877],\n",
       "       [ 0.50501321, -0.45464846,  0.31746244],\n",
       "       [-0.43191656, -0.47880449,  0.84671111],\n",
       "       [ 0.72859839, -0.27189391,  0.3268436 ]])"
      ]
     },
     "execution_count": 13,
     "metadata": {},
     "output_type": "execute_result"
    }
   ],
   "source": [
    "theta_sub"
   ]
  },
  {
   "cell_type": "code",
   "execution_count": 14,
   "metadata": {},
   "outputs": [
    {
     "data": {
      "text/plain": [
       "array([[ 1.0486855 , -0.40023196,  1.19411945],\n",
       "       [ 0.78085123, -0.38562591,  0.52119779],\n",
       "       [ 0.64150886, -0.54785385, -0.08379638],\n",
       "       [ 0.45361782, -0.80021844,  0.68048129],\n",
       "       [ 0.93753789,  0.1060899 ,  0.36195295]])"
      ]
     },
     "execution_count": 14,
     "metadata": {},
     "output_type": "execute_result"
    }
   ],
   "source": [
    "x_sub"
   ]
  },
  {
   "cell_type": "code",
   "execution_count": 38,
   "metadata": {},
   "outputs": [],
   "source": [
    "def cofiCost(x, theta, y, r):\n",
    "    num_movies = x.shape[0]\n",
    "    num_users = theta.shape[0]\n",
    "    num_features = x.shape[1]\n",
    "    \n",
    "    # hx = x.dot(theta.T)\n",
    "    # hx[r==0] = 0 is the same as hx = np.multiply(hx, r)\n",
    "    # j = ((hx - y) ** 2).sum() / 2 works as the same\n",
    "    \n",
    "    j = ((np.multiply(x.dot(theta.T), r) - y) ** 2).sum() / 2\n",
    "    \n",
    "    return j"
   ]
  },
  {
   "cell_type": "code",
   "execution_count": 39,
   "metadata": {},
   "outputs": [
    {
     "data": {
      "text/plain": [
       "22.224603725685675"
      ]
     },
     "execution_count": 39,
     "metadata": {},
     "output_type": "execute_result"
    }
   ],
   "source": [
    "# test J w/o regulation\n",
    "testCost = cofiCost(x_sub, theta_sub, y_sub, r_sub)\n",
    "testCost"
   ]
  },
  {
   "cell_type": "code",
   "execution_count": 43,
   "metadata": {},
   "outputs": [],
   "source": [
    "def cofiGrad(x, theta, y, r):\n",
    "    num_movies = x.shape[0]\n",
    "    num_users = theta.shape[0]\n",
    "    num_features = x.shape[1]\n",
    "    \n",
    "    #j = ((np.multiply(x.dot(theta.T), r) - y) ** 2).sum() / 2\n",
    "    \n",
    "    x_grad = (np.multiply(x.dot(theta.T), r) - y).dot(theta)\n",
    "    theta_grad = (np.multiply(x.dot(theta.T), r) - y).T.dot(x)\n",
    "        \n",
    "    return x_grad, theta_grad"
   ]
  },
  {
   "cell_type": "code",
   "execution_count": 47,
   "metadata": {},
   "outputs": [],
   "source": [
    "def gradCheck(x, theta, y, r, eps):\n",
    "    x_grad = np.zeros(x.shape)\n",
    "    theta_grad = np.zeros(theta.shape)\n",
    "    \n",
    "    for i in range(x.shape[0]):\n",
    "        for j in range(x.shape[1]):\n",
    "            x_pos = copy.copy(x)\n",
    "            x_neg = copy.copy(x)\n",
    "            x_pos[i, j] = x[i, j] + eps\n",
    "            x_neg[i, j] = x[i, j] - eps\n",
    "            j_pos = cofiCost(x_pos, theta, y, r)\n",
    "            j_neg = cofiCost(x_neg, theta, y, r)\n",
    "            x_grad[i, j] = (j_pos - j_neg) / 2 / eps\n",
    "            \n",
    "    for i in range(theta.shape[0]):\n",
    "        for j in range(theta.shape[1]):\n",
    "            theta_pos = copy.copy(theta)\n",
    "            theta_neg = copy.copy(theta)\n",
    "            theta_pos[i, j] = theta[i, j] + eps\n",
    "            theta_neg[i, j] = theta[i, j] - eps\n",
    "            j_pos = cofiCost(x, theta_pos, y, r)\n",
    "            j_neg = cofiCost(x, theta_neg, y, r)\n",
    "            theta_grad[i, j] = (j_pos - j_neg) / 2 / eps\n",
    "\n",
    "    return x_grad, theta_grad"
   ]
  },
  {
   "cell_type": "code",
   "execution_count": 53,
   "metadata": {},
   "outputs": [
    {
     "data": {
      "text/plain": [
       "(array([[-2.52899165,  7.57570308, -1.89979026],\n",
       "        [-0.56819597,  3.35265031, -0.52339845],\n",
       "        [-0.83240713,  4.91163297, -0.76677878],\n",
       "        [-0.38358278,  2.26333698, -0.35334048],\n",
       "        [-0.80378006,  4.74271842, -0.74040871]]),\n",
       " array([[-10.5680202 ,   4.62776019,  -7.16004443],\n",
       "        [ -3.05099006,   1.16441367,  -3.47410789],\n",
       "        [  0.        ,   0.        ,   0.        ],\n",
       "        [  0.        ,   0.        ,   0.        ]]))"
      ]
     },
     "execution_count": 53,
     "metadata": {},
     "output_type": "execute_result"
    }
   ],
   "source": [
    "testGrad = cofiGrad(x_sub, theta_sub, y_sub, r_sub)\n",
    "testGrad"
   ]
  },
  {
   "cell_type": "code",
   "execution_count": 52,
   "metadata": {},
   "outputs": [
    {
     "data": {
      "text/plain": [
       "(array([[-2.52899165,  7.57570308, -1.89979026],\n",
       "        [-0.56819597,  3.35265031, -0.52339845],\n",
       "        [-0.83240713,  4.91163297, -0.76677878],\n",
       "        [-0.38358278,  2.26333698, -0.35334048],\n",
       "        [-0.80378006,  4.74271842, -0.74040871]]),\n",
       " array([[-10.5680202 ,   4.62776019,  -7.16004443],\n",
       "        [ -3.05099006,   1.16441367,  -3.47410789],\n",
       "        [  0.        ,   0.        ,   0.        ],\n",
       "        [  0.        ,   0.        ,   0.        ]]))"
      ]
     },
     "execution_count": 52,
     "metadata": {},
     "output_type": "execute_result"
    }
   ],
   "source": [
    "testNbrGrad = gradCheck(x_sub, theta_sub, y_sub, r_sub, 0.0001)\n",
    "testNbrGrad"
   ]
  },
  {
   "cell_type": "code",
   "execution_count": 61,
   "metadata": {},
   "outputs": [
    {
     "name": "stdout",
     "output_type": "stream",
     "text": [
      "passed the grad test\n"
     ]
    }
   ],
   "source": [
    "diff = testGrad[0] - testNbrGrad[0], testGrad[1] - testNbrGrad[1]\n",
    "if ((diff[0] < 0.0001).all() == True) & ((diff[1] < 0.0001).all() == True):\n",
    "    print (\"passed the grad test\")"
   ]
  },
  {
   "cell_type": "code",
   "execution_count": 68,
   "metadata": {},
   "outputs": [],
   "source": [
    "def cofiCostReg(x, theta, y, r, lam):\n",
    "    \n",
    "    j = ((np.multiply(x.dot(theta.T), r) - y) ** 2).sum() / 2 + (theta ** 2).sum() * lam / 2 + (x ** 2).sum() * lam / 2\n",
    "                                                                    \n",
    "    return j"
   ]
  },
  {
   "cell_type": "code",
   "execution_count": 63,
   "metadata": {},
   "outputs": [
    {
     "data": {
      "text/plain": [
       "31.34405624427422"
      ]
     },
     "execution_count": 63,
     "metadata": {},
     "output_type": "execute_result"
    }
   ],
   "source": [
    "testCostReg = cofiCostReg(x_sub, theta_sub, y_sub, r_sub, 1.5)\n",
    "testCostReg"
   ]
  },
  {
   "cell_type": "code",
   "execution_count": 69,
   "metadata": {},
   "outputs": [],
   "source": [
    "def cofiGradReg(x, theta, y, r, lam):\n",
    "    \n",
    "    x_grad = (np.multiply(x.dot(theta.T), r) - y).dot(theta) + lam * x\n",
    "    theta_grad = (np.multiply(x.dot(theta.T), r) - y).T.dot(x) + lam * theta\n",
    "        \n",
    "    return x_grad, theta_grad"
   ]
  },
  {
   "cell_type": "code",
   "execution_count": 64,
   "metadata": {},
   "outputs": [],
   "source": [
    "def gradCheckReg(x, theta, y, r, eps, lam):\n",
    "    x_grad = np.zeros(x.shape)\n",
    "    theta_grad = np.zeros(theta.shape)\n",
    "    \n",
    "    for i in range(x.shape[0]):\n",
    "        for j in range(x.shape[1]):\n",
    "            x_pos = copy.copy(x)\n",
    "            x_neg = copy.copy(x)\n",
    "            x_pos[i, j] = x[i, j] + eps\n",
    "            x_neg[i, j] = x[i, j] - eps\n",
    "            j_pos = cofiCostReg(x_pos, theta, y, r, lam)\n",
    "            j_neg = cofiCostReg(x_neg, theta, y, r, lam)\n",
    "            x_grad[i, j] = (j_pos - j_neg) / 2 / eps\n",
    "            \n",
    "    for i in range(theta.shape[0]):\n",
    "        for j in range(theta.shape[1]):\n",
    "            theta_pos = copy.copy(theta)\n",
    "            theta_neg = copy.copy(theta)\n",
    "            theta_pos[i, j] = theta[i, j] + eps\n",
    "            theta_neg[i, j]b = theta[i, j] - eps\n",
    "            j_pos = cofiCostReg(x, theta_pos, y, r, lam)\n",
    "            j_neg = cofiCostReg(x, theta_neg, y, r, lam)\n",
    "            theta_grad[i, j] = (j_pos - j_neg) / 2 / eps\n",
    "\n",
    "    return x_grad, theta_grad"
   ]
  },
  {
   "cell_type": "code",
   "execution_count": 67,
   "metadata": {},
   "outputs": [
    {
     "name": "stdout",
     "output_type": "stream",
     "text": [
      "passed the grad test\n"
     ]
    }
   ],
   "source": [
    "testGradReg = cofiGradReg(x_sub, theta_sub, y_sub, r_sub, 1.5)\n",
    "testNbrGradReg = gradCheckReg(x_sub, theta_sub, y_sub, r_sub, 0.0001, 1.5)\n",
    "diff = testGradReg[0] - testNbrGradReg[0], testGradReg[1] - testNbrGradReg[1]\n",
    "if ((diff[0] < 0.0001).all() == True) & ((diff[1] < 0.0001).all() == True):\n",
    "    print (\"passed the grad test\")"
   ]
  },
  {
   "cell_type": "code",
   "execution_count": 81,
   "metadata": {},
   "outputs": [],
   "source": [
    "def flatGrad(x, theta, y, r, lam):\n",
    "    \n",
    "    x_grad = (np.multiply(x.dot(theta.T), r) - y).dot(theta) + lam * x\n",
    "    theta_grad = (np.multiply(x.dot(theta.T), r) - y).T.dot(x) + lam * theta\n",
    "    \n",
    "    grad = np.append(x_grad.flatten(), theta_grad.flatten())\n",
    "    \n",
    "    return grad"
   ]
  },
  {
   "cell_type": "code",
   "execution_count": 125,
   "metadata": {},
   "outputs": [],
   "source": [
    "def randInit(nrow, ncol):\n",
    "    epsilon = 1\n",
    "    sample = np.random.uniform(-epsilon, epsilon, nrow * ncol)\n",
    "    return sample.reshape(nrow, ncol)"
   ]
  },
  {
   "cell_type": "code",
   "execution_count": 88,
   "metadata": {},
   "outputs": [],
   "source": [
    "def readFile(filename):\n",
    "    with open(filename, 'r') as myfile:\n",
    "        content = myfile.read()\n",
    "    return content"
   ]
  },
  {
   "cell_type": "code",
   "execution_count": 92,
   "metadata": {},
   "outputs": [],
   "source": [
    "def loadMovieList(filename):\n",
    "    with open(filename, 'r') as myfile:\n",
    "        content = myfile.readlines()\n",
    "    movies = [x.strip('\\n') for x in content]\n",
    "        \n",
    "    return movies"
   ]
  },
  {
   "cell_type": "code",
   "execution_count": 95,
   "metadata": {},
   "outputs": [
    {
     "data": {
      "text/plain": [
       "['1 Toy Story (1995)',\n",
       " '2 GoldenEye (1995)',\n",
       " '3 Four Rooms (1995)',\n",
       " '4 Get Shorty (1995)',\n",
       " '5 Copycat (1995)',\n",
       " '6 Shanghai Triad (Yao a yao yao dao waipo qiao) (1995)',\n",
       " '7 Twelve Monkeys (1995)',\n",
       " '8 Babe (1995)',\n",
       " '9 Dead Man Walking (1995)',\n",
       " '10 Richard III (1995)']"
      ]
     },
     "execution_count": 95,
     "metadata": {},
     "output_type": "execute_result"
    }
   ],
   "source": [
    "loc = r'C:\\Users\\c0w00f8.WMSC\\Documents\\Coursera\\1. Machine Learning\\machine-learning-ex8\\ex8\\movie_ids.txt'\n",
    "movieList = loadMovieList(loc)\n",
    "movieList[:10]"
   ]
  },
  {
   "cell_type": "code",
   "execution_count": 94,
   "metadata": {},
   "outputs": [],
   "source": [
    "# add more ratings\n",
    "myrating = np.zeros((1682, 1))\n",
    "myrating.shape\n",
    "myrating[0, 0] = 5\n",
    "myrating[87, 0] = 4\n",
    "myrating[93, 0] = 3"
   ]
  },
  {
   "cell_type": "code",
   "execution_count": 101,
   "metadata": {},
   "outputs": [
    {
     "data": {
      "text/plain": [
       "(1682, 944)"
      ]
     },
     "execution_count": 101,
     "metadata": {},
     "output_type": "execute_result"
    }
   ],
   "source": [
    "my_y = np.append(myrating, movies_y, axis=1)\n",
    "rNew = np.zeros((1682, 1))\n",
    "rNew[myrating > 0] = 1\n",
    "my_r = np.append(rNew, movies_r, axis=1)\n",
    "my_r.shape"
   ]
  },
  {
   "cell_type": "code",
   "execution_count": 140,
   "metadata": {},
   "outputs": [
    {
     "data": {
      "text/plain": [
       "array([5., 0., 0., ..., 0., 0., 0.])"
      ]
     },
     "execution_count": 140,
     "metadata": {},
     "output_type": "execute_result"
    }
   ],
   "source": [
    "my_y[:, 0]"
   ]
  },
  {
   "cell_type": "code",
   "execution_count": 105,
   "metadata": {},
   "outputs": [
    {
     "data": {
      "text/plain": [
       "(944, 10)"
      ]
     },
     "execution_count": 105,
     "metadata": {},
     "output_type": "execute_result"
    }
   ],
   "source": [
    "myTheta = randInit(1, 10)\n",
    "my_theta = np.append(myTheta, params_theta, axis=0)\n",
    "my_theta.shape"
   ]
  },
  {
   "cell_type": "code",
   "execution_count": 106,
   "metadata": {},
   "outputs": [],
   "source": [
    "def cofiCostOpt(param, n_movies, n_users, n_features, y, r, lam):\n",
    "    x = param[:n_movies*n_features]\n",
    "    x = x.reshape((n_movies, n_features))\n",
    "    theta = param[n_movies*n_features:]\n",
    "    theta = theta.reshape((n_users, n_features))\n",
    "    \n",
    "    j = ((np.multiply(x.dot(theta.T), r) - y) ** 2).sum() / 2 + (theta ** 2).sum() * lam / 2 + (x ** 2).sum() * lam / 2\n",
    "                                                                    \n",
    "    return j"
   ]
  },
  {
   "cell_type": "code",
   "execution_count": 107,
   "metadata": {},
   "outputs": [],
   "source": [
    "def flatGradOpt(param, n_movies, n_users, n_features, y, r, lam):\n",
    "    x = param[:n_movies*n_features]\n",
    "    x = x.reshape((n_movies, n_features))\n",
    "    theta = param[n_movies*n_features:]\n",
    "    theta = theta.reshape((n_users, n_features))\n",
    "    \n",
    "    x_grad = (np.multiply(x.dot(theta.T), r) - y).dot(theta) + lam * x\n",
    "    theta_grad = (np.multiply(x.dot(theta.T), r) - y).T.dot(x) + lam * theta\n",
    "    \n",
    "    grad = np.append(x_grad.flatten(), theta_grad.flatten())\n",
    "    \n",
    "    return grad"
   ]
  },
  {
   "cell_type": "code",
   "execution_count": 129,
   "metadata": {},
   "outputs": [],
   "source": [
    "def recommend(x, theta, y, r, lam):\n",
    "    num_movies = x.shape[0]\n",
    "    num_users = theta.shape[0]\n",
    "    num_features = x.shape[1]\n",
    "    \n",
    "    param_init = np.append(x.flatten(), theta.flatten())\n",
    "    \n",
    "    myargs = num_movies, num_users, num_features, y, r, lam\n",
    "    \n",
    "    train = fmin_cg(cofiCostOpt, param_init, args = myargs, fprime = flatGradOpt, maxiter = 1000)\n",
    "    \n",
    "    x_opt = train[:num_movies*num_features]\n",
    "    x_opt = x.reshape((num_movies, num_features))\n",
    "    \n",
    "    theta_opt = train[num_movies*num_features:]\n",
    "    theta_opt = theta_opt.reshape((num_users, num_features))\n",
    "    \n",
    "    pred = x_opt.dot(theta_opt.T)\n",
    "    \n",
    "    return pred"
   ]
  },
  {
   "cell_type": "code",
   "execution_count": 144,
   "metadata": {},
   "outputs": [],
   "source": [
    "def normRating(y, r):\n",
    "    y_nan = copy.copy(y)\n",
    "    y_nan[r==0] = np.nan\n",
    "    y_mean = np.nanmean(y_nan, axis=0)\n",
    "    \n",
    "    y_norm = y - y_mean\n",
    "    y_norm[r==0] = 0\n",
    "\n",
    "    return y_mean, y_norm"
   ]
  },
  {
   "cell_type": "code",
   "execution_count": 147,
   "metadata": {},
   "outputs": [
    {
     "data": {
      "text/plain": [
       "(1682, 944)"
      ]
     },
     "execution_count": 147,
     "metadata": {},
     "output_type": "execute_result"
    }
   ],
   "source": [
    "testMean, testYnorm = normRating(my_y, my_r)\n",
    "testYnorm.shape"
   ]
  },
  {
   "cell_type": "code",
   "execution_count": 148,
   "metadata": {},
   "outputs": [
    {
     "name": "stdout",
     "output_type": "stream",
     "text": [
      "Warning: Desired error not necessarily achieved due to precision loss.\n",
      "         Current function value: 40130.895407\n",
      "         Iterations: 453\n",
      "         Function evaluations: 678\n",
      "         Gradient evaluations: 677\n"
     ]
    },
    {
     "data": {
      "text/plain": [
       "array([[ 0.10076441,  1.24732894, -0.26780099, ...,  0.01624832,\n",
       "        -0.1709465 ,  0.08712995],\n",
       "       [-0.02769504,  0.04086423, -0.3899686 , ..., -0.2160447 ,\n",
       "        -0.28200503, -0.80946744],\n",
       "       [-0.00775171,  1.53976749,  0.40939895, ...,  0.05720126,\n",
       "        -0.2838247 , -0.78318757],\n",
       "       ...,\n",
       "       [-0.12122633, -0.08884285, -0.23191147, ..., -0.38688902,\n",
       "        -0.39018058, -0.8560186 ],\n",
       "       [-0.04688987, -1.53456327, -0.51669533, ..., -0.17316644,\n",
       "         0.08746084, -0.29237494],\n",
       "       [ 0.06726655,  0.5328619 ,  0.13586987, ...,  0.06960007,\n",
       "        -0.02647957,  0.71746018]])"
      ]
     },
     "execution_count": 148,
     "metadata": {},
     "output_type": "execute_result"
    }
   ],
   "source": [
    "x_init = randInit(1682, 10)\n",
    "theta_init = randInit(944, 10)\n",
    "testRecom = recommend(x_init, theta_init, testYnorm, my_r, 10)\n",
    "testRecom"
   ]
  },
  {
   "cell_type": "code",
   "execution_count": 131,
   "metadata": {},
   "outputs": [
    {
     "data": {
      "text/plain": [
       "(1682, 944)"
      ]
     },
     "execution_count": 131,
     "metadata": {},
     "output_type": "execute_result"
    }
   ],
   "source": [
    "testRecom.shape"
   ]
  },
  {
   "cell_type": "code",
   "execution_count": 166,
   "metadata": {},
   "outputs": [
    {
     "data": {
      "text/plain": [
       "4.215750850366893"
      ]
     },
     "execution_count": 166,
     "metadata": {},
     "output_type": "execute_result"
    }
   ],
   "source": [
    "myRecom = testRecom[:,0] + testMean[0]\n",
    "myRecom.max()"
   ]
  },
  {
   "cell_type": "code",
   "execution_count": 151,
   "metadata": {},
   "outputs": [
    {
     "data": {
      "text/plain": [
       "10.070747889688985"
      ]
     },
     "execution_count": 151,
     "metadata": {},
     "output_type": "execute_result"
    }
   ],
   "source": [
    "(testRecom + testMean).max()"
   ]
  },
  {
   "cell_type": "code",
   "execution_count": 167,
   "metadata": {},
   "outputs": [
    {
     "data": {
      "text/plain": [
       "array([ 862,  218,  205,  612, 1138], dtype=int64)"
      ]
     },
     "execution_count": 167,
     "metadata": {},
     "output_type": "execute_result"
    }
   ],
   "source": [
    "myRecom = np.argsort(myRecom)[::-1]\n",
    "myRecom[:5]"
   ]
  },
  {
   "cell_type": "code",
   "execution_count": 172,
   "metadata": {},
   "outputs": [
    {
     "data": {
      "text/plain": [
       "['863 Garden of Finzi-Contini, The (Giardino dei Finzi-Contini, Il) (1970)',\n",
       " '219 Nightmare on Elm Street, A (1984)',\n",
       " '206 Akira (1988)',\n",
       " '613 My Man Godfrey (1936)',\n",
       " '1139 Hackers (1995)']"
      ]
     },
     "execution_count": 172,
     "metadata": {},
     "output_type": "execute_result"
    }
   ],
   "source": [
    "top5 = list(myRecom[:5])\n",
    "top5Movie = [movieList[i] for i in top5]\n",
    "top5Movie"
   ]
  }
 ],
 "metadata": {
  "kernelspec": {
   "display_name": "Python 3",
   "language": "python",
   "name": "python3"
  },
  "language_info": {
   "codemirror_mode": {
    "name": "ipython",
    "version": 3
   },
   "file_extension": ".py",
   "mimetype": "text/x-python",
   "name": "python",
   "nbconvert_exporter": "python",
   "pygments_lexer": "ipython3",
   "version": "3.6.1"
  }
 },
 "nbformat": 4,
 "nbformat_minor": 2
}
