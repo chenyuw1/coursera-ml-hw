{
 "cells": [
  {
   "cell_type": "code",
   "execution_count": 1,
   "metadata": {},
   "outputs": [],
   "source": [
    "# import packages\n",
    "import pandas as pd\n",
    "import numpy as np\n",
    "import matplotlib.pyplot as plt\n",
    "import seaborn as sns\n",
    "\n",
    "%matplotlib inline"
   ]
  },
  {
   "cell_type": "code",
   "execution_count": 2,
   "metadata": {},
   "outputs": [],
   "source": [
    "# read data\n",
    "#loc = r'C:\\Program Files\\Python36\\Scripts\\Coursera_ML\\ex2\\ex2data1.txt'\n",
    "#data = pd.read_csv(loc, sep = ',', header = None)\n",
    "#data.shape"
   ]
  },
  {
   "cell_type": "code",
   "execution_count": 5,
   "metadata": {},
   "outputs": [
    {
     "data": {
      "text/plain": [
       "(100, 3)"
      ]
     },
     "execution_count": 5,
     "metadata": {},
     "output_type": "execute_result"
    }
   ],
   "source": [
    "#loc = 'https://raw.githubusercontent.com/chenyuw1/coursera-ml-hw/master/hw2/ex2data1.txt'\n",
    "loc = r'C:\\Users\\c0w00f8.WMSC\\Documents\\Coursera\\1. Machine Learning\\machine-learning-ex2\\ex2\\ex2data1.txt'\n",
    "data = pd.read_csv(loc, sep = ',', header = None)\n",
    "data.shape"
   ]
  },
  {
   "cell_type": "code",
   "execution_count": 6,
   "metadata": {},
   "outputs": [
    {
     "data": {
      "text/html": [
       "<div>\n",
       "<style scoped>\n",
       "    .dataframe tbody tr th:only-of-type {\n",
       "        vertical-align: middle;\n",
       "    }\n",
       "\n",
       "    .dataframe tbody tr th {\n",
       "        vertical-align: top;\n",
       "    }\n",
       "\n",
       "    .dataframe thead th {\n",
       "        text-align: right;\n",
       "    }\n",
       "</style>\n",
       "<table border=\"1\" class=\"dataframe\">\n",
       "  <thead>\n",
       "    <tr style=\"text-align: right;\">\n",
       "      <th></th>\n",
       "      <th>exam1</th>\n",
       "      <th>exam2</th>\n",
       "      <th>admission</th>\n",
       "    </tr>\n",
       "  </thead>\n",
       "  <tbody>\n",
       "    <tr>\n",
       "      <th>0</th>\n",
       "      <td>34.623660</td>\n",
       "      <td>78.024693</td>\n",
       "      <td>0</td>\n",
       "    </tr>\n",
       "    <tr>\n",
       "      <th>1</th>\n",
       "      <td>30.286711</td>\n",
       "      <td>43.894998</td>\n",
       "      <td>0</td>\n",
       "    </tr>\n",
       "    <tr>\n",
       "      <th>2</th>\n",
       "      <td>35.847409</td>\n",
       "      <td>72.902198</td>\n",
       "      <td>0</td>\n",
       "    </tr>\n",
       "    <tr>\n",
       "      <th>3</th>\n",
       "      <td>60.182599</td>\n",
       "      <td>86.308552</td>\n",
       "      <td>1</td>\n",
       "    </tr>\n",
       "    <tr>\n",
       "      <th>4</th>\n",
       "      <td>79.032736</td>\n",
       "      <td>75.344376</td>\n",
       "      <td>1</td>\n",
       "    </tr>\n",
       "  </tbody>\n",
       "</table>\n",
       "</div>"
      ],
      "text/plain": [
       "       exam1      exam2  admission\n",
       "0  34.623660  78.024693          0\n",
       "1  30.286711  43.894998          0\n",
       "2  35.847409  72.902198          0\n",
       "3  60.182599  86.308552          1\n",
       "4  79.032736  75.344376          1"
      ]
     },
     "execution_count": 6,
     "metadata": {},
     "output_type": "execute_result"
    }
   ],
   "source": [
    "data.columns = ['exam1', 'exam2', 'admission']\n",
    "data.head()"
   ]
  },
  {
   "cell_type": "code",
   "execution_count": 7,
   "metadata": {},
   "outputs": [
    {
     "data": {
      "image/png": "[encoded data removed]",
      "text/plain": [
       "<Figure size 432x288 with 1 Axes>"
      ]
     },
     "metadata": {},
     "output_type": "display_data"
    }
   ],
   "source": [
    "# plot\n",
    "# with matplotlib\n",
    "fig = plt.figure()\n",
    "ax = fig.add_subplot(1, 1, 1)\n",
    "title = ax.set_title('Scatter plot of training data')\n",
    "plot1 = ax.scatter(data[data.admission == 1].exam1, data[data.admission == 1].exam2, marker = 'd', c = 'red',\n",
    "                  label = 'Admitted')\n",
    "plot2 = ax.scatter(data[data.admission == 0].exam1, data[data.admission == 0].exam2, marker = '*', c = 'blue',\n",
    "                  label = 'Not admitted')\n",
    "ax.legend()\n",
    "fig.canvas.draw()"
   ]
  },
  {
   "cell_type": "code",
   "execution_count": 8,
   "metadata": {},
   "outputs": [],
   "source": [
    "# warmup: sigmoid function\n",
    "# for one element\n",
    "def sigmoid(x):\n",
    "    return 1 / (1 + np.exp(-x))"
   ]
  },
  {
   "cell_type": "code",
   "execution_count": 9,
   "metadata": {},
   "outputs": [],
   "source": [
    "# sigmoid for vector/matrix\n",
    "sigmd = np.vectorize(sigmoid)"
   ]
  },
  {
   "cell_type": "code",
   "execution_count": 72,
   "metadata": {},
   "outputs": [],
   "source": [
    "# for dataframe or series\n",
    "# df.applymap(sigmoid)\n",
    "# series.apply(sigmoid)"
   ]
  },
  {
   "cell_type": "code",
   "execution_count": 10,
   "metadata": {},
   "outputs": [
    {
     "data": {
      "text/html": [
       "<div>\n",
       "<style scoped>\n",
       "    .dataframe tbody tr th:only-of-type {\n",
       "        vertical-align: middle;\n",
       "    }\n",
       "\n",
       "    .dataframe tbody tr th {\n",
       "        vertical-align: top;\n",
       "    }\n",
       "\n",
       "    .dataframe thead th {\n",
       "        text-align: right;\n",
       "    }\n",
       "</style>\n",
       "<table border=\"1\" class=\"dataframe\">\n",
       "  <thead>\n",
       "    <tr style=\"text-align: right;\">\n",
       "      <th></th>\n",
       "      <th>intercept</th>\n",
       "      <th>exam1</th>\n",
       "      <th>exam2</th>\n",
       "      <th>admission</th>\n",
       "    </tr>\n",
       "  </thead>\n",
       "  <tbody>\n",
       "    <tr>\n",
       "      <th>0</th>\n",
       "      <td>1</td>\n",
       "      <td>34.623660</td>\n",
       "      <td>78.024693</td>\n",
       "      <td>0</td>\n",
       "    </tr>\n",
       "    <tr>\n",
       "      <th>1</th>\n",
       "      <td>1</td>\n",
       "      <td>30.286711</td>\n",
       "      <td>43.894998</td>\n",
       "      <td>0</td>\n",
       "    </tr>\n",
       "    <tr>\n",
       "      <th>2</th>\n",
       "      <td>1</td>\n",
       "      <td>35.847409</td>\n",
       "      <td>72.902198</td>\n",
       "      <td>0</td>\n",
       "    </tr>\n",
       "    <tr>\n",
       "      <th>3</th>\n",
       "      <td>1</td>\n",
       "      <td>60.182599</td>\n",
       "      <td>86.308552</td>\n",
       "      <td>1</td>\n",
       "    </tr>\n",
       "    <tr>\n",
       "      <th>4</th>\n",
       "      <td>1</td>\n",
       "      <td>79.032736</td>\n",
       "      <td>75.344376</td>\n",
       "      <td>1</td>\n",
       "    </tr>\n",
       "  </tbody>\n",
       "</table>\n",
       "</div>"
      ],
      "text/plain": [
       "   intercept      exam1      exam2  admission\n",
       "0          1  34.623660  78.024693          0\n",
       "1          1  30.286711  43.894998          0\n",
       "2          1  35.847409  72.902198          0\n",
       "3          1  60.182599  86.308552          1\n",
       "4          1  79.032736  75.344376          1"
      ]
     },
     "execution_count": 10,
     "metadata": {},
     "output_type": "execute_result"
    }
   ],
   "source": [
    "# add x0 to data\n",
    "x0 = [1] * len(data)\n",
    "df0 = pd.DataFrame(x0)\n",
    "data = pd.concat([df0, data], axis = 1)\n",
    "data.columns = ['intercept', 'exam1', 'exam2', 'admission']\n",
    "data.head()"
   ]
  },
  {
   "cell_type": "code",
   "execution_count": 11,
   "metadata": {},
   "outputs": [],
   "source": [
    "x = data.iloc[:, :-1]\n",
    "y = data.iloc[:, -1]"
   ]
  },
  {
   "cell_type": "code",
   "execution_count": 12,
   "metadata": {},
   "outputs": [],
   "source": [
    "# cost function\n",
    "def costFunc(theta, x, y):\n",
    "    m = len(y)\n",
    "    hx = sigmd(np.dot(x, theta))\n",
    "    \n",
    "    # cost function for logistic reg\n",
    "    j = (- y.T * np.log(hx) - (1 - y.T) * np.log(1 - hx)).sum() / m\n",
    "    \n",
    "    # gradient\n",
    "    grad = np.dot((hx - y), x) / m\n",
    "    \n",
    "    return j, grad"
   ]
  },
  {
   "cell_type": "code",
   "execution_count": 13,
   "metadata": {},
   "outputs": [
    {
     "data": {
      "text/plain": [
       "(0.6931471805599453, array([ -0.1       , -12.00921659, -11.26284221]))"
      ]
     },
     "execution_count": 13,
     "metadata": {},
     "output_type": "execute_result"
    }
   ],
   "source": [
    "# test\n",
    "j1, grad1 = costFunc([0, 0, 0], x, y)\n",
    "j1, grad1"
   ]
  },
  {
   "cell_type": "code",
   "execution_count": 14,
   "metadata": {},
   "outputs": [
    {
     "data": {
      "text/plain": [
       "(0.21833019382659785, array([0.04290299, 2.56623412, 2.64679737]))"
      ]
     },
     "execution_count": 14,
     "metadata": {},
     "output_type": "execute_result"
    }
   ],
   "source": [
    "# test\n",
    "j2, grad2 = costFunc([-24, 0.2, 0.2], x, y)\n",
    "j2, grad2"
   ]
  },
  {
   "cell_type": "code",
   "execution_count": 136,
   "metadata": {},
   "outputs": [],
   "source": [
    "# np.dot((hx - y), x) already include the sum calculation for rows\n",
    "# see example:\n",
    "# t = [0, 0, 0]\n",
    "# hx = sigmd(np.dot(x, t))\n",
    "# (hx - y).dot(x)"
   ]
  },
  {
   "cell_type": "code",
   "execution_count": 15,
   "metadata": {},
   "outputs": [],
   "source": [
    "# optimize theta using gradient descent\n",
    "def gradientDescent(x, y, theta, alpha, num_iters):\n",
    "    m = len(y)\n",
    "    j_hist = [0] * number_iters\n",
    "    \n",
    "    for i in range(num_iters):\n",
    "        j[i], grad = costFunc(x, y, theta)\n",
    "        theta -= alpha * grad\n",
    "    \n",
    "    return theta"
   ]
  },
  {
   "cell_type": "code",
   "execution_count": 16,
   "metadata": {},
   "outputs": [],
   "source": [
    "from scipy.optimize import fmin_bfgs"
   ]
  },
  {
   "cell_type": "code",
   "execution_count": 17,
   "metadata": {},
   "outputs": [],
   "source": [
    "def init_theta(x):\n",
    "    #x_mx = x.values\n",
    "    #theta = np.zeros(x_mx.shape[1])\n",
    "    #return theta.flatten()\n",
    "    n = x.shape[1]\n",
    "    return [0] * n"
   ]
  },
  {
   "cell_type": "code",
   "execution_count": 18,
   "metadata": {},
   "outputs": [],
   "source": [
    "def cost_opt(theta, x, y):\n",
    "    m = len(y)\n",
    "    hx = sigmd(np.dot(x, theta))\n",
    "    \n",
    "    # cost function for logistic reg\n",
    "    if (hx.all() != 0) and ((1 - hx).all() != 0):\n",
    "        j = (- y.T * np.log(hx) - (1 - y.T) * np.log(1 - hx)).sum() / m\n",
    "    else: j = 100000\n",
    "    \n",
    "    return j"
   ]
  },
  {
   "cell_type": "code",
   "execution_count": 19,
   "metadata": {},
   "outputs": [],
   "source": [
    "def grad(theta, x, y):\n",
    "    m = len(y)\n",
    "    hx = sigmd(np.dot(x, theta))\n",
    "\n",
    "    # gradient\n",
    "    grad = np.dot((hx - y), x) / m\n",
    "    \n",
    "    return grad"
   ]
  },
  {
   "cell_type": "code",
   "execution_count": 20,
   "metadata": {},
   "outputs": [
    {
     "name": "stdout",
     "output_type": "stream",
     "text": [
      "Optimization terminated successfully.\n",
      "         Current function value: 0.203498\n",
      "         Iterations: 23\n",
      "         Function evaluations: 28\n",
      "         Gradient evaluations: 28\n"
     ]
    },
    {
     "data": {
      "text/plain": [
       "array([-25.16133401,   0.20623172,   0.2014716 ])"
      ]
     },
     "execution_count": 20,
     "metadata": {},
     "output_type": "execute_result"
    }
   ],
   "source": [
    "# optimize theta using fmin_bfgs\n",
    "theta = init_theta(x)\n",
    "myargs = (x, y)\n",
    "theta_opt = fmin_bfgs(cost_opt, theta, args = myargs, fprime = grad)\n",
    "theta_opt"
   ]
  },
  {
   "cell_type": "code",
   "execution_count": 53,
   "metadata": {},
   "outputs": [],
   "source": [
    "# update func pred to be able to handle both vector and df\n",
    "\n",
    "def pred(theta, x_new):\n",
    "    if type(x_new) != type(pd.DataFrame(x_new)):\n",
    "        x_df = pd.DataFrame(x_new).T\n",
    "    else: x_df = x_new\n",
    "    x0 = [1] * len(x_df)\n",
    "    df0 = pd.DataFrame(x0)\n",
    "    df = pd.concat([df0, x_df], axis = 1)\n",
    "    \n",
    "    values = sigmd(np.dot(df, theta))\n",
    "    \n",
    "    #cutoff = lambda x: 1 if x > 0.5 else 0\n",
    "    #vcutoff = np.vectorize(cutoff)\n",
    "    #pred = vcutoff(values)\n",
    "    \n",
    "    #return pred\n",
    "    return values"
   ]
  },
  {
   "cell_type": "code",
   "execution_count": 54,
   "metadata": {},
   "outputs": [
    {
     "data": {
      "text/plain": [
       "array([0.77629066])"
      ]
     },
     "execution_count": 54,
     "metadata": {},
     "output_type": "execute_result"
    }
   ],
   "source": [
    "# prediction test\n",
    "x_new = [45, 85]\n",
    "pred(theta_opt, x_new)"
   ]
  },
  {
   "cell_type": "code",
   "execution_count": 58,
   "metadata": {},
   "outputs": [],
   "source": [
    "#pred(theta_opt, x.iloc[:, 1:])"
   ]
  },
  {
   "cell_type": "code",
   "execution_count": 42,
   "metadata": {},
   "outputs": [
    {
     "name": "stdout",
     "output_type": "stream",
     "text": [
      "[94.11873121964943, 22.70127940894155]\n"
     ]
    }
   ],
   "source": [
    "# shape of decision boundary\n",
    "if x.iloc[:, :-1].shape[1] < 3:\n",
    "    # should be a line - find two points would be enough\n",
    "    xx = [min(x.exam1), max(x.exam1)]\n",
    "    yy = [ (-1 / theta_opt[2]) * (theta_opt[0] + theta_opt[1] * xx[i]) for i in range(len(xx)) ]\n",
    "    #print (yy)"
   ]
  },
  {
   "cell_type": "code",
   "execution_count": 44,
   "metadata": {},
   "outputs": [
    {
     "data": {
      "image/png": "[encoded data removed]",
      "text/plain": [
       "<Figure size 432x288 with 1 Axes>"
      ]
     },
     "metadata": {},
     "output_type": "display_data"
    }
   ],
   "source": [
    "# plot decision boundary\n",
    "\n",
    "# plot the data\n",
    "fig = plt.figure()\n",
    "ax = fig.add_subplot(1, 1, 1)\n",
    "title = ax.set_title('Scatter plot of training data')\n",
    "plot1 = ax.scatter(data[data.admission == 1].exam1, data[data.admission == 1].exam2, marker = 'd', c = 'red',\n",
    "                  label = 'Admitted')\n",
    "plot2 = ax.scatter(data[data.admission == 0].exam1, data[data.admission == 0].exam2, marker = '*', c = 'blue',\n",
    "                  label = 'Not admitted')\n",
    "plot3 = ax.plot(xx, yy, label = 'Decision Boundary')\n",
    "ax.legend()\n",
    "fig.canvas.draw()"
   ]
  },
  {
   "cell_type": "code",
   "execution_count": 80,
   "metadata": {},
   "outputs": [],
   "source": [
    "# evaluating logisitic reg\n",
    "# calculate accuracy on training set\n",
    "def prediction(theta, x, y):\n",
    "    m = len(y)\n",
    "    y_prob = pred(theta_opt, x)\n",
    "    \n",
    "    cutoff = lambda x: 1 if x > 0.5 else 0\n",
    "    vcutoff = np.vectorize(cutoff)\n",
    "    y_pred = vcutoff(y_prob)\n",
    "    \n",
    "    accurate_count = (y_pred == y).sum()\n",
    "    # ndarray(y_pred) can be compared to pandas.series(y)\n",
    "    #print (y_pred)\n",
    "    #print (type(y_pred))\n",
    "    #print (accurate_count)\n",
    "    \n",
    "    accuracy = accurate_count / m\n",
    "    return accuracy"
   ]
  },
  {
   "cell_type": "code",
   "execution_count": 81,
   "metadata": {},
   "outputs": [
    {
     "data": {
      "text/plain": [
       "0.89"
      ]
     },
     "execution_count": 81,
     "metadata": {},
     "output_type": "execute_result"
    }
   ],
   "source": [
    "x_test = x.iloc[:, 1:]\n",
    "prediction(theta_opt, x_test, y)"
   ]
  }
 ],
 "metadata": {
  "kernelspec": {
   "display_name": "Python 3",
   "language": "python",
   "name": "python3"
  },
  "language_info": {
   "codemirror_mode": {
    "name": "ipython",
    "version": 3
   },
   "file_extension": ".py",
   "mimetype": "text/x-python",
   "name": "python",
   "nbconvert_exporter": "python",
   "pygments_lexer": "ipython3",
   "version": "3.6.1"
  }
 },
 "nbformat": 4,
 "nbformat_minor": 2
}
