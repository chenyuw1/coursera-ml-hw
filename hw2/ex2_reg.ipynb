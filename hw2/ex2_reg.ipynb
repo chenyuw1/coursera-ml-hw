{
 "cells": [
  {
   "cell_type": "code",
   "execution_count": 53,
   "metadata": {},
   "outputs": [],
   "source": [
    "# import packages\n",
    "import pandas as pd\n",
    "import numpy as np\n",
    "import matplotlib.pyplot as plt\n",
    "import seaborn as sns\n",
    "from scipy.optimize import fmin_bfgs\n",
    "\n",
    "%matplotlib inline"
   ]
  },
  {
   "cell_type": "code",
   "execution_count": 2,
   "metadata": {},
   "outputs": [
    {
     "data": {
      "text/plain": [
       "(118, 3)"
      ]
     },
     "execution_count": 2,
     "metadata": {},
     "output_type": "execute_result"
    }
   ],
   "source": [
    "#loc = 'https://raw.githubusercontent.com/chenyuw1/coursera-ml-hw/master/hw2/ex2data2.txt'\n",
    "loc = r'C:\\Users\\c0w00f8.WMSC\\Documents\\Coursera\\1. Machine Learning\\machine-learning-ex2\\ex2\\ex2data2.txt'\n",
    "data = pd.read_csv(loc, sep = ',', header = None)\n",
    "data.shape"
   ]
  },
  {
   "cell_type": "code",
   "execution_count": 4,
   "metadata": {},
   "outputs": [
    {
     "data": {
      "text/html": [
       "<div>\n",
       "<style scoped>\n",
       "    .dataframe tbody tr th:only-of-type {\n",
       "        vertical-align: middle;\n",
       "    }\n",
       "\n",
       "    .dataframe tbody tr th {\n",
       "        vertical-align: top;\n",
       "    }\n",
       "\n",
       "    .dataframe thead th {\n",
       "        text-align: right;\n",
       "    }\n",
       "</style>\n",
       "<table border=\"1\" class=\"dataframe\">\n",
       "  <thead>\n",
       "    <tr style=\"text-align: right;\">\n",
       "      <th></th>\n",
       "      <th>Test1</th>\n",
       "      <th>Test2</th>\n",
       "      <th>y</th>\n",
       "    </tr>\n",
       "  </thead>\n",
       "  <tbody>\n",
       "    <tr>\n",
       "      <th>0</th>\n",
       "      <td>0.051267</td>\n",
       "      <td>0.69956</td>\n",
       "      <td>1</td>\n",
       "    </tr>\n",
       "    <tr>\n",
       "      <th>1</th>\n",
       "      <td>-0.092742</td>\n",
       "      <td>0.68494</td>\n",
       "      <td>1</td>\n",
       "    </tr>\n",
       "    <tr>\n",
       "      <th>2</th>\n",
       "      <td>-0.213710</td>\n",
       "      <td>0.69225</td>\n",
       "      <td>1</td>\n",
       "    </tr>\n",
       "    <tr>\n",
       "      <th>3</th>\n",
       "      <td>-0.375000</td>\n",
       "      <td>0.50219</td>\n",
       "      <td>1</td>\n",
       "    </tr>\n",
       "    <tr>\n",
       "      <th>4</th>\n",
       "      <td>-0.513250</td>\n",
       "      <td>0.46564</td>\n",
       "      <td>1</td>\n",
       "    </tr>\n",
       "  </tbody>\n",
       "</table>\n",
       "</div>"
      ],
      "text/plain": [
       "      Test1    Test2  y\n",
       "0  0.051267  0.69956  1\n",
       "1 -0.092742  0.68494  1\n",
       "2 -0.213710  0.69225  1\n",
       "3 -0.375000  0.50219  1\n",
       "4 -0.513250  0.46564  1"
      ]
     },
     "execution_count": 4,
     "metadata": {},
     "output_type": "execute_result"
    }
   ],
   "source": [
    "data.columns = ['Test1', 'Test2', 'y']\n",
    "data.head()"
   ]
  },
  {
   "cell_type": "code",
   "execution_count": 16,
   "metadata": {},
   "outputs": [
    {
     "data": {
      "image/png": "[encoded data removed]",
      "text/plain": [
       "<Figure size 432x288 with 1 Axes>"
      ]
     },
     "metadata": {},
     "output_type": "display_data"
    }
   ],
   "source": [
    "# visualizing the data\n",
    "fig = plt.figure()\n",
    "ax = fig.add_subplot(1, 1, 1)\n",
    "title = ax.set_title('Plot of Training Data')\n",
    "plot1 = ax.scatter(data[data.y == 1].Test1, data[data.y == 1].Test2, marker = 'P', c = 'green',\n",
    "                  label = 'y = 1')\n",
    "plot2 = ax.scatter(data[data.y == 0].Test1, data[data.y == 0].Test2, marker = '8', c = 'brown',\n",
    "                  label = 'y = 0')\n",
    "ax.legend()\n",
    "fig.canvas.draw()"
   ]
  },
  {
   "cell_type": "code",
   "execution_count": 185,
   "metadata": {},
   "outputs": [],
   "source": [
    "# Feature mapping\n",
    "def mapFeature(x1, x2, degree): \n",
    "    df0 = pd.DataFrame({'x1': x1, 'x2': x2})\n",
    "    \n",
    "    #else: \n",
    "    #    df0 = pd.concat([x1, x2], axis = 1)\n",
    "    df = pd.DataFrame()\n",
    "    for deg in range(degree + 1):\n",
    "        for i in range(deg + 1):\n",
    "                #print (\"deg: \", deg)\n",
    "                #print (\"i: \", i)\n",
    "            col1 = x1 ** i  \n",
    "            col2 = x2 ** (deg - i)\n",
    "            col = [ col1[j] * col2[j] for j in range(len(df0)) ]\n",
    "            col = pd.DataFrame(col)                \n",
    "            df = pd.concat([df, col], axis = 1)\n",
    "                \n",
    "            #print (df.shape)\n",
    "    return df"
   ]
  },
  {
   "cell_type": "code",
   "execution_count": 186,
   "metadata": {},
   "outputs": [
    {
     "data": {
      "text/plain": [
       "(118, 28)"
      ]
     },
     "execution_count": 186,
     "metadata": {},
     "output_type": "execute_result"
    }
   ],
   "source": [
    "data_mapped = mapFeature(data.iloc[:, 0], data.iloc[:, 1], 6)\n",
    "data_mapped.shape"
   ]
  },
  {
   "cell_type": "code",
   "execution_count": 48,
   "metadata": {},
   "outputs": [],
   "source": [
    "def sigmoid(x):\n",
    "    return 1 / (1 + np.exp(-x))\n",
    "# sigmoid for vector/matrix\n",
    "sigmd = np.vectorize(sigmoid)"
   ]
  },
  {
   "cell_type": "code",
   "execution_count": 83,
   "metadata": {},
   "outputs": [],
   "source": [
    "# cost func\n",
    "def costRegOpt(theta, x, y, l):\n",
    "    m = len(y)    \n",
    "    hx = sigmd(np.dot(x, theta))\n",
    "    \n",
    "    if (hx.all() != 0) and ((1 - hx).all() != 0):\n",
    "        \n",
    "        theta_2 = [ theta[i] ** 2 for i in range(len(theta)) ]\n",
    "        j = (-y.T * np.log(hx) - (1 - y.T) * np.log(1 - hx)).sum() / m + sum(theta_2) * l / 2 / m\n",
    "        \n",
    "    else: j = 1000000\n",
    "        \n",
    "    return j"
   ]
  },
  {
   "cell_type": "code",
   "execution_count": 74,
   "metadata": {},
   "outputs": [],
   "source": [
    "def gradReg(theta, x, y, l):\n",
    "    m = len(y)\n",
    "    hx = sigmd(np.dot(x, theta))\n",
    "    \n",
    "    grad = np.dot((hx - y), x) / m + l * theta / m\n",
    "    grad[0] = ((hx[0] - y[0]) * x.iloc[:, 0]).sum() / m\n",
    "    \n",
    "    return grad"
   ]
  },
  {
   "cell_type": "code",
   "execution_count": 94,
   "metadata": {},
   "outputs": [],
   "source": [
    "def init_theta(x):\n",
    "    n = x.shape[1]\n",
    "    return [0] * n"
   ]
  },
  {
   "cell_type": "code",
   "execution_count": 55,
   "metadata": {},
   "outputs": [],
   "source": [
    "# prepare data\n",
    "x = data_mapped\n",
    "y = data.iloc[:, -1]"
   ]
  },
  {
   "cell_type": "code",
   "execution_count": 96,
   "metadata": {},
   "outputs": [
    {
     "data": {
      "text/plain": [
       "0.6931471805599454"
      ]
     },
     "execution_count": 96,
     "metadata": {},
     "output_type": "execute_result"
    }
   ],
   "source": [
    "# cost function test\n",
    "theta = init_theta(x)\n",
    "costRegOpt(theta, x, y, 1)"
   ]
  },
  {
   "cell_type": "code",
   "execution_count": 208,
   "metadata": {},
   "outputs": [
    {
     "name": "stdout",
     "output_type": "stream",
     "text": [
      "Optimization terminated successfully.\n",
      "         Current function value: 0.535160\n",
      "         Iterations: 46\n",
      "         Function evaluations: 1410\n",
      "         Gradient evaluations: 47\n"
     ]
    },
    {
     "data": {
      "text/plain": [
       "array([ 1.14216824,  1.16719601,  0.60159665, -1.27009818, -0.91585624,\n",
       "       -1.8713386 , -0.17359497, -0.34493737, -0.36845894,  0.12635793,\n",
       "       -1.16298585, -0.26932595, -0.60654142, -0.04896992, -1.42386124,\n",
       "       -0.46905368, -0.2867609 , -0.28027311, -0.04338837, -0.20689057,\n",
       "       -0.24354142, -0.93193376, -0.1379881 , -0.32900554,  0.01716398,\n",
       "       -0.29266128,  0.02900087, -1.0365075 ])"
      ]
     },
     "execution_count": 208,
     "metadata": {},
     "output_type": "execute_result"
    }
   ],
   "source": [
    "# optimize using fmin_bfgs\n",
    "theta = init_theta(x)\n",
    "l = 1\n",
    "myargs = (x, y, l)\n",
    "theta_opt = fmin_bfgs(costRegOpt, theta, args = myargs)\n",
    "theta_opt"
   ]
  },
  {
   "cell_type": "code",
   "execution_count": 209,
   "metadata": {},
   "outputs": [],
   "source": [
    "# plot prep\n",
    "u = np.linspace(-1, 1.5, 50)\n",
    "v = np.linspace(-1, 1.5, 50)\n",
    "z = np.zeros(shape=(len(u), len(v)))\n",
    "for i in range(len(u)):\n",
    "    for j in range(len(v)):\n",
    "        ui = np.array([u[i]])\n",
    "        vj = np.array([v[j]])\n",
    "        z_i_j = mapFeature(ui, vj, 6)\n",
    "        z[i, j] = z_i_j.dot(theta_opt)"
   ]
  },
  {
   "cell_type": "code",
   "execution_count": 217,
   "metadata": {},
   "outputs": [
    {
     "data": {
      "image/png": "[encoded data removed]",
      "text/plain": [
       "<Figure size 432x288 with 1 Axes>"
      ]
     },
     "metadata": {},
     "output_type": "display_data"
    }
   ],
   "source": [
    "# plot\n",
    "\n",
    "# visualizing the data\n",
    "fig = plt.figure()\n",
    "ax = fig.add_subplot(1, 1, 1)\n",
    "title = ax.set_title('lambda = %f' % l)\n",
    "xlabel = ax.set_xlabel('Test 1')\n",
    "ylabel = ax.set_ylabel('Test 2')\n",
    "plot1 = ax.scatter(data[data.y == 1].Test1, data[data.y == 1].Test2, marker = 'P', c = 'green',\n",
    "                  label = 'y = 1')\n",
    "plot2 = ax.scatter(data[data.y == 0].Test1, data[data.y == 0].Test2, marker = '8', c = 'brown',\n",
    "                  label = 'y = 0')\n",
    "\n",
    "z = z.T\n",
    "plot3 = ax.contour(u, v, z, levels = [0.5])\n",
    "plot3.clabel(inline = True, fontsize = 9)\n",
    "\n",
    "ax.legend()\n",
    "fig.canvas.draw()"
   ]
  },
  {
   "cell_type": "code",
   "execution_count": 218,
   "metadata": {},
   "outputs": [
    {
     "name": "stdout",
     "output_type": "stream",
     "text": [
      "Optimization terminated successfully.\n",
      "         Current function value: 0.224570\n",
      "         Iterations: 592\n",
      "         Function evaluations: 18090\n",
      "         Gradient evaluations: 603\n"
     ]
    },
    {
     "data": {
      "text/plain": [
       "array([   35.09227487,    69.27322069,    44.09635521,  -184.1547381 ,\n",
       "        -198.22055163,  -344.18466304,  -328.40460674,  -510.80993322,\n",
       "        -621.5853559 ,  -295.64946664,   436.48462855,   900.83679859,\n",
       "        1757.19464755,  1269.42968089,  1094.3976592 ,   464.08796873,\n",
       "        1131.37426484,  1929.69940711,  1822.30597407,  1235.68892903,\n",
       "         470.83523509,  -510.57505832, -1546.26280216, -3251.99077104,\n",
       "       -3484.08097335, -3462.14114239, -2020.40640901, -1141.78779799])"
      ]
     },
     "execution_count": 218,
     "metadata": {},
     "output_type": "execute_result"
    }
   ],
   "source": [
    "# test lambda = 0\n",
    "theta = init_theta(x)\n",
    "l = 0\n",
    "myargs = (x, y, l)\n",
    "theta_opt = fmin_bfgs(costRegOpt, theta, args = myargs)\n",
    "theta_opt"
   ]
  },
  {
   "cell_type": "code",
   "execution_count": 219,
   "metadata": {},
   "outputs": [],
   "source": [
    "# plot prep\n",
    "u = np.linspace(-1, 1.5, 50)\n",
    "v = np.linspace(-1, 1.5, 50)\n",
    "z = np.zeros(shape=(len(u), len(v)))\n",
    "for i in range(len(u)):\n",
    "    for j in range(len(v)):\n",
    "        ui = np.array([u[i]])\n",
    "        vj = np.array([v[j]])\n",
    "        z_i_j = mapFeature(ui, vj, 6)\n",
    "        z[i, j] = z_i_j.dot(theta_opt)"
   ]
  },
  {
   "cell_type": "code",
   "execution_count": 220,
   "metadata": {},
   "outputs": [
    {
     "data": {
      "image/png": "[encoded data removed]",
      "text/plain": [
       "<Figure size 432x288 with 1 Axes>"
      ]
     },
     "metadata": {},
     "output_type": "display_data"
    }
   ],
   "source": [
    "fig = plt.figure()\n",
    "ax = fig.add_subplot(1, 1, 1)\n",
    "title = ax.set_title('lambda = %f' % l)\n",
    "xlabel = ax.set_xlabel('Test 1')\n",
    "ylabel = ax.set_ylabel('Test 2')\n",
    "plot1 = ax.scatter(data[data.y == 1].Test1, data[data.y == 1].Test2, marker = 'P', c = 'green',\n",
    "                  label = 'y = 1')\n",
    "plot2 = ax.scatter(data[data.y == 0].Test1, data[data.y == 0].Test2, marker = '8', c = 'brown',\n",
    "                  label = 'y = 0')\n",
    "\n",
    "z = z.T\n",
    "plot3 = ax.contour(u, v, z, levels = [0.5])\n",
    "plot3.clabel(inline = True, fontsize = 9)\n",
    "\n",
    "ax.legend()\n",
    "fig.canvas.draw()"
   ]
  },
  {
   "cell_type": "code",
   "execution_count": 221,
   "metadata": {},
   "outputs": [
    {
     "name": "stdout",
     "output_type": "stream",
     "text": [
      "Optimization terminated successfully.\n",
      "         Current function value: 0.686527\n",
      "         Iterations: 4\n",
      "         Function evaluations: 150\n",
      "         Gradient evaluations: 5\n"
     ]
    },
    {
     "data": {
      "text/plain": [
       "array([ 0.00468518,  0.0064181 , -0.0172703 , -0.03727036, -0.01327387,\n",
       "       -0.05402538, -0.02224655, -0.00885247, -0.00760979, -0.0182134 ,\n",
       "       -0.04072361, -0.00354777, -0.01393125, -0.0023857 , -0.04288319,\n",
       "       -0.03153266, -0.0050035 , -0.00624861, -0.00354972, -0.00467175,\n",
       "       -0.02078684, -0.04058929, -0.00157661, -0.00788562, -0.00039446,\n",
       "       -0.00694158, -0.00108325, -0.03381526])"
      ]
     },
     "execution_count": 221,
     "metadata": {},
     "output_type": "execute_result"
    }
   ],
   "source": [
    "# test lambda = 100\n",
    "theta = init_theta(x)\n",
    "l = 100\n",
    "myargs = (x, y, l)\n",
    "theta_opt = fmin_bfgs(costRegOpt, theta, args = myargs)\n",
    "theta_opt"
   ]
  },
  {
   "cell_type": "code",
   "execution_count": 222,
   "metadata": {},
   "outputs": [],
   "source": [
    "# plot prep\n",
    "u = np.linspace(-1, 1.5, 50)\n",
    "v = np.linspace(-1, 1.5, 50)\n",
    "z = np.zeros(shape=(len(u), len(v)))\n",
    "for i in range(len(u)):\n",
    "    for j in range(len(v)):\n",
    "        ui = np.array([u[i]])\n",
    "        vj = np.array([v[j]])\n",
    "        z_i_j = mapFeature(ui, vj, 6)\n",
    "        z[i, j] = z_i_j.dot(theta_opt)"
   ]
  },
  {
   "cell_type": "code",
   "execution_count": 225,
   "metadata": {},
   "outputs": [
    {
     "data": {
      "image/png": "[encoded data removed]",
      "text/plain": [
       "<Figure size 432x288 with 1 Axes>"
      ]
     },
     "metadata": {},
     "output_type": "display_data"
    }
   ],
   "source": [
    "fig = plt.figure()\n",
    "ax = fig.add_subplot(1, 1, 1)\n",
    "title = ax.set_title('lambda = %f' % l)\n",
    "xlabel = ax.set_xlabel('Test 1')\n",
    "ylabel = ax.set_ylabel('Test 2')\n",
    "plot1 = ax.scatter(data[data.y == 1].Test1, data[data.y == 1].Test2, marker = 'P', c = 'green',\n",
    "                  label = 'y = 1')\n",
    "plot2 = ax.scatter(data[data.y == 0].Test1, data[data.y == 0].Test2, marker = '8', c = 'brown',\n",
    "                  label = 'y = 0')\n",
    "\n",
    "z = z.T\n",
    "plot3 = ax.contour(u, v, z)\n",
    "plot3.clabel(inline = True, fontsize = 9)\n",
    "\n",
    "ax.legend()\n",
    "fig.canvas.draw()"
   ]
  }
 ],
 "metadata": {
  "kernelspec": {
   "display_name": "Python 3",
   "language": "python",
   "name": "python3"
  },
  "language_info": {
   "codemirror_mode": {
    "name": "ipython",
    "version": 3
   },
   "file_extension": ".py",
   "mimetype": "text/x-python",
   "name": "python",
   "nbconvert_exporter": "python",
   "pygments_lexer": "ipython3",
   "version": "3.6.1"
  }
 },
 "nbformat": 4,
 "nbformat_minor": 2
}
