{
 "cells": [
  {
   "cell_type": "code",
   "execution_count": 227,
   "metadata": {},
   "outputs": [],
   "source": [
    "from scipy.io import loadmat\n",
    "\n",
    "import pandas as pd\n",
    "import numpy as np\n",
    "\n",
    "from scipy.optimize import fmin_cg\n",
    "\n",
    "import copy\n",
    "\n",
    "import matplotlib.pyplot as plt\n",
    "\n",
    "%matplotlib inline"
   ]
  },
  {
   "cell_type": "code",
   "execution_count": 83,
   "metadata": {},
   "outputs": [],
   "source": [
    "loc = r'C:\\Users\\c0w00f8.WMSC\\Documents\\Coursera\\1. Machine Learning\\machine-learning-ex4\\ex4\\ex4data1.mat'\n",
    "mat_data = loadmat(loc)\n",
    "data_x = mat_data['X']\n",
    "data_y = mat_data['y']"
   ]
  },
  {
   "cell_type": "code",
   "execution_count": 151,
   "metadata": {},
   "outputs": [
    {
     "data": {
      "text/plain": [
       "(5000, 1)"
      ]
     },
     "execution_count": 151,
     "metadata": {},
     "output_type": "execute_result"
    }
   ],
   "source": [
    "data_y.shape"
   ]
  },
  {
   "cell_type": "code",
   "execution_count": 91,
   "metadata": {},
   "outputs": [],
   "source": [
    "# change the label 10 back to 0\n",
    "#data_y[data_y == 10] = 0\n",
    "\n",
    "# here for this assignment, don't change 10 to 0!!! since the weights provided was based on label 10!!! \n",
    "# if change to 0, the cost test result would be around 10.44\n",
    "# if stay 10, it would be 0.287629, the correct reference provided by the writeup!"
   ]
  },
  {
   "cell_type": "code",
   "execution_count": 5,
   "metadata": {},
   "outputs": [],
   "source": [
    "# load provided weights\n",
    "loc = r'C:\\Users\\c0w00f8.WMSC\\Documents\\Coursera\\1. Machine Learning\\machine-learning-ex4\\ex4\\ex4weights.mat'\n",
    "mat = loadmat(loc)\n",
    "theta1 = mat['Theta1']\n",
    "theta2 = mat['Theta2']"
   ]
  },
  {
   "cell_type": "code",
   "execution_count": 33,
   "metadata": {},
   "outputs": [
    {
     "data": {
      "text/plain": [
       "(25, 401)"
      ]
     },
     "execution_count": 33,
     "metadata": {},
     "output_type": "execute_result"
    }
   ],
   "source": [
    "theta1.shape"
   ]
  },
  {
   "cell_type": "code",
   "execution_count": 6,
   "metadata": {},
   "outputs": [],
   "source": [
    "#data_x.shape\n",
    "#theta1.shape - 25 * 401\n",
    "#theta2.shape - 10 * 26"
   ]
  },
  {
   "cell_type": "code",
   "execution_count": 7,
   "metadata": {},
   "outputs": [
    {
     "data": {
      "text/plain": [
       "(10285,)"
      ]
     },
     "execution_count": 7,
     "metadata": {},
     "output_type": "execute_result"
    }
   ],
   "source": [
    "t1_f = theta1.flatten()\n",
    "t2_f = theta2.flatten()\n",
    "t = np.append(t1_f, t2_f)\n",
    "t.shape"
   ]
  },
  {
   "cell_type": "code",
   "execution_count": 8,
   "metadata": {},
   "outputs": [],
   "source": [
    "def sigmoid(x):\n",
    "    return 1 / (1 + np.exp(-x))"
   ]
  },
  {
   "cell_type": "code",
   "execution_count": 84,
   "metadata": {},
   "outputs": [],
   "source": [
    "def mReform(x, k):\n",
    "    m = x.shape[0]\n",
    "    mat = np.zeros((m, 1))\n",
    "    for i in range(k):\n",
    "        label = (x == i+1).astype(int)\n",
    "        mat = np.hstack((mat, label))\n",
    "    return mat[:, 1:]"
   ]
  },
  {
   "cell_type": "code",
   "execution_count": 86,
   "metadata": {},
   "outputs": [
    {
     "data": {
      "text/plain": [
       "array([[0., 0., 0., ..., 0., 0., 1.],\n",
       "       [0., 0., 0., ..., 0., 0., 1.],\n",
       "       [0., 0., 0., ..., 0., 0., 1.],\n",
       "       ...,\n",
       "       [0., 0., 0., ..., 0., 1., 0.],\n",
       "       [0., 0., 0., ..., 0., 1., 0.],\n",
       "       [0., 0., 0., ..., 0., 1., 0.]])"
      ]
     },
     "execution_count": 86,
     "metadata": {},
     "output_type": "execute_result"
    }
   ],
   "source": [
    "testy = mReform(data_y, 10)\n",
    "testy"
   ]
  },
  {
   "cell_type": "code",
   "execution_count": 17,
   "metadata": {},
   "outputs": [
    {
     "data": {
      "text/plain": [
       "array([[3, 1, 2],\n",
       "       [9, 1, 5],\n",
       "       [7, 4, 6]])"
      ]
     },
     "execution_count": 17,
     "metadata": {},
     "output_type": "execute_result"
    }
   ],
   "source": [
    "a1 = np.arange(9).reshape(3, 3)\n",
    "b1 = np.array([\n",
    "    [3, 1, 2],\n",
    "    [9, 1, 5],\n",
    "    [7, 4, 6]\n",
    "])\n",
    "b1"
   ]
  },
  {
   "cell_type": "code",
   "execution_count": 97,
   "metadata": {},
   "outputs": [
    {
     "data": {
      "text/plain": [
       "array([[ 9,  1,  4],\n",
       "       [81,  1, 25],\n",
       "       [49, 16, 36]], dtype=int32)"
      ]
     },
     "execution_count": 97,
     "metadata": {},
     "output_type": "execute_result"
    }
   ],
   "source": [
    "b1 **2"
   ]
  },
  {
   "cell_type": "code",
   "execution_count": 18,
   "metadata": {},
   "outputs": [
    {
     "data": {
      "text/plain": [
       "array([[0, 1, 2],\n",
       "       [3, 4, 5],\n",
       "       [6, 7, 8]])"
      ]
     },
     "execution_count": 18,
     "metadata": {},
     "output_type": "execute_result"
    }
   ],
   "source": [
    "a1"
   ]
  },
  {
   "cell_type": "code",
   "execution_count": 32,
   "metadata": {},
   "outputs": [
    {
     "data": {
      "text/plain": [
       "array([[ -3,  -2,  -4],\n",
       "       [-12,  -5, -10],\n",
       "       [-13, -11, -14]])"
      ]
     },
     "execution_count": 32,
     "metadata": {},
     "output_type": "execute_result"
    }
   ],
   "source": [
    " (- a1 - b1)"
   ]
  },
  {
   "cell_type": "code",
   "execution_count": 19,
   "metadata": {},
   "outputs": [
    {
     "data": {
      "text/plain": [
       "array([[ 0,  1,  4],\n",
       "       [27,  4, 25],\n",
       "       [42, 28, 48]])"
      ]
     },
     "execution_count": 19,
     "metadata": {},
     "output_type": "execute_result"
    }
   ],
   "source": [
    "np.multiply(a1, b1)"
   ]
  },
  {
   "cell_type": "code",
   "execution_count": 20,
   "metadata": {},
   "outputs": [
    {
     "data": {
      "text/plain": [
       "179"
      ]
     },
     "execution_count": 20,
     "metadata": {},
     "output_type": "execute_result"
    }
   ],
   "source": [
    "np.multiply(a1, b1).sum()"
   ]
  },
  {
   "cell_type": "code",
   "execution_count": 24,
   "metadata": {},
   "outputs": [
    {
     "data": {
      "text/plain": [
       "array([[1.09861229, 0.        , 0.69314718],\n",
       "       [2.19722458, 0.        , 1.60943791],\n",
       "       [1.94591015, 1.38629436, 1.79175947]])"
      ]
     },
     "execution_count": 24,
     "metadata": {},
     "output_type": "execute_result"
    }
   ],
   "source": [
    "np.log(b1)"
   ]
  },
  {
   "cell_type": "code",
   "execution_count": 25,
   "metadata": {},
   "outputs": [
    {
     "data": {
      "text/plain": [
       "array([[ 0.        ,  0.        ,  1.38629436],\n",
       "       [ 6.59167373,  0.        ,  8.04718956],\n",
       "       [11.67546089,  9.70406053, 14.33407575]])"
      ]
     },
     "execution_count": 25,
     "metadata": {},
     "output_type": "execute_result"
    }
   ],
   "source": [
    "np.multiply(np.log(b1), a1)"
   ]
  },
  {
   "cell_type": "code",
   "execution_count": 94,
   "metadata": {},
   "outputs": [],
   "source": [
    "def nnCost(theta, hid_size, x, y, num_labels, lam):\n",
    "    # assume the network only have 1 input layer, 1 hidden layer, and 1 output layer\n",
    "    \n",
    "    m = x.shape[0]\n",
    "    \n",
    "    # reshape theta1 and theta2\n",
    "    inp_size = x.shape[1]\n",
    "    theta_cutoff = hid_size * (inp_size + 1)\n",
    "    theta1 = theta[:theta_cutoff].reshape((hid_size, inp_size + 1))\n",
    "    theta2 = theta[theta_cutoff:].reshape((num_labels, hid_size + 1))\n",
    "    #print ('theta1', type(theta1), theta1.shape)\n",
    "    #print ('theta2', type(theta2), theta2.shape)\n",
    "\n",
    "    \n",
    "    # adjust x and insert x0 = 1\n",
    "    x = np.insert(x, 0, 1, axis = 1)\n",
    "    # x.shape - 5000 * 401\n",
    "    \n",
    "    # compute hidden layer value\n",
    "    hidden = sigmoid(x.dot(theta1.T))\n",
    "    #print ('hidden layer', type(hidden), hidden.shape)\n",
    "    # hidden.shape - 5000 * 25\n",
    "    \n",
    "    # add bias unit to hidden layer\n",
    "    hid = np.insert(hidden, 0, 1, axis = 1)\n",
    "    #print ('hid+bias unit', type(hid), hid.shape)\n",
    "    # hid.shape - 5000 * 26\n",
    "    \n",
    "    pred = sigmoid(hid.dot(theta2.T))\n",
    "    #print ('pred', type(pred), pred.shape)\n",
    "    # pred.shape - 5000 * 10\n",
    "    \n",
    "    #out = np.argmax(pred, axis = 1).reshape((m, 1))\n",
    "    #print ('out', type(out), out.shape)\n",
    "    #out = mReform(out, num_labels)\n",
    "    \n",
    "    # reform y to matrix\n",
    "    y = mReform(y,  num_labels)\n",
    "    # turn y into 5000 * 10 matrix\n",
    "    \n",
    "    # compute cost\n",
    "\n",
    "    \n",
    "    j =  ( - np.multiply(y, np.log(pred)) - np.multiply(1 - y, np.log(1 - pred))).sum() / m\n",
    "    \n",
    "    # perform the same when using for-loop\n",
    "    #cost = 0\n",
    "    #for i in range(pred.shape[0]):\n",
    "    #    for j in range(pred.shape[1]):\n",
    "    #        cost = cost - y[i, j] * np.log(pred[i, j]) - (1 - y[i, j]) * np.log(1 - pred[i, j])\n",
    "    \n",
    "    return j"
   ]
  },
  {
   "cell_type": "code",
   "execution_count": 100,
   "metadata": {},
   "outputs": [
    {
     "data": {
      "text/plain": [
       "0.2876291651613189"
      ]
     },
     "execution_count": 100,
     "metadata": {},
     "output_type": "execute_result"
    }
   ],
   "source": [
    "# test nnCost\n",
    "\n",
    "testC = nnCost(t, 25, data_x, data_y, 10, 1)\n",
    "testC\n",
    "# ~0.287629\n",
    "\n",
    "#tt1, tt2 = nnCost(t, 25, data_x, data_y, 10, 1)\n",
    "#if ((tt1 == theta1).all() == True) and ((tt2 == theta2).all() == True):\n",
    "#    print (\"theta reshape test passed\")"
   ]
  },
  {
   "cell_type": "code",
   "execution_count": 98,
   "metadata": {},
   "outputs": [],
   "source": [
    "def nnCostReg(theta, hid_size, x, y, num_labels, lam):    \n",
    "    m = x.shape[0]\n",
    "    \n",
    "    # reshape theta1 and theta2\n",
    "    inp_size = x.shape[1]\n",
    "    theta_cutoff = hid_size * (inp_size + 1)\n",
    "    theta1 = theta[:theta_cutoff].reshape((hid_size, inp_size + 1))\n",
    "    theta2 = theta[theta_cutoff:].reshape((num_labels, hid_size + 1))\n",
    "    #theta1.shape - 25 * 401\n",
    "    #theta2.shape - 10 * 26\n",
    "    \n",
    "    # adjust x and insert x0 = 1\n",
    "    x = np.insert(x, 0, 1, axis = 1)\n",
    "    # x.shape - 5000 * 401\n",
    "    \n",
    "    # compute hidden layer value\n",
    "    hidden = sigmoid(x.dot(theta1.T))\n",
    "    # hidden.shape - 5000 * 25\n",
    "    \n",
    "    # add bias unit to hidden layer\n",
    "    hid = np.insert(hidden, 0, 1, axis = 1)\n",
    "    # hid.shape - 5000 * 26\n",
    "    \n",
    "    pred = sigmoid(hid.dot(theta2.T))\n",
    "    # pred.shape - 5000 * 10\n",
    "    \n",
    "    # reform y to matrix\n",
    "    y = mReform(y,  num_labels)\n",
    "    # turn y into 5000 * 10 matrix\n",
    "    \n",
    "    # compute cost\n",
    "    j =  ( - np.multiply(y, np.log(pred)) - np.multiply(1 - y, np.log(1 - pred))).sum() / m\n",
    "                                          \n",
    "    # Regularition\n",
    "    reg = ((theta1[:, 1:] ** 2).sum() + (theta2[:, 1:] ** 2).sum()) * lam / 2 / m\n",
    "    \n",
    "    return j + reg"
   ]
  },
  {
   "cell_type": "code",
   "execution_count": 99,
   "metadata": {},
   "outputs": [
    {
     "data": {
      "text/plain": [
       "0.38376985909092365"
      ]
     },
     "execution_count": 99,
     "metadata": {},
     "output_type": "execute_result"
    }
   ],
   "source": [
    "testR = nnCostReg(t, 25, data_x, data_y, 10, 1)\n",
    "testR\n",
    "# ~0.38377"
   ]
  },
  {
   "cell_type": "code",
   "execution_count": 101,
   "metadata": {},
   "outputs": [],
   "source": [
    "def sigmdGrad(x):\n",
    "    return np.multiply(sigmoid(x), 1 - sigmoid(x))"
   ]
  },
  {
   "cell_type": "code",
   "execution_count": 107,
   "metadata": {},
   "outputs": [],
   "source": [
    "def randInit(l_in, l_out):\n",
    "    epsilon = 0.12\n",
    "    sample = np.random.uniform(-epsilon, epsilon, l_out * (l_in + 1))\n",
    "    return sample.reshape(l_out, l_in + 1)"
   ]
  },
  {
   "cell_type": "code",
   "execution_count": 176,
   "metadata": {},
   "outputs": [],
   "source": [
    "def backprop(theta, hid_size, x, y, num_labels, lam):\n",
    "    m = x.shape[0]\n",
    "    inp_size = x.shape[1]\n",
    "    theta_cutoff = hid_size * (inp_size + 1)\n",
    "    theta1 = theta[:theta_cutoff].reshape((hid_size, inp_size + 1))\n",
    "    theta2 = theta[theta_cutoff:].reshape((num_labels, hid_size + 1))\n",
    "    \n",
    "    x = np.insert(x, 0, 1, axis = 1)\n",
    "    hidden = sigmoid(x.dot(theta1.T))\n",
    "    # a2 = hid\n",
    "    a2 = np.insert(hidden, 0, 1, axis = 1)\n",
    "    # a3 = pred\n",
    "    a3 = sigmoid(a2.dot(theta2.T))\n",
    "    y = mReform(y,  num_labels)\n",
    "    \n",
    "    error3 = a3 - y\n",
    "    #print ('error3', error3.shape)\n",
    "    #error3.shape - 5000 * 10\n",
    "    \n",
    "    # theta1 - 25 * 401\n",
    "    # theta2 - 10 * 26\n",
    "    # add 1 column to z2\n",
    "    z2 = x.dot(theta1.T)\n",
    "    z2 = np.insert(z2, 0, 1, axis = 1)\n",
    "    # z2.shape - 5000 * 26\n",
    "    \n",
    "    gz2 = sigmdGrad(z2)\n",
    "    # gz2.shape - 5000 * 26\n",
    "    \n",
    "    error2 = np.multiply(error3.dot(theta2), gz2)\n",
    "    #print ('error2', error2.shape)\n",
    "    #error2.shape - 5000 * 26\n",
    "    \n",
    "    delta2 = error3.T.dot(a2)\n",
    "    # print ('delta2', delta2.shape)\n",
    "    # delta2.shape - 10 * 26\n",
    "    \n",
    "    # ignore error2[:,0]\n",
    "    delta1 = error2[:, 1:].T.dot(x)\n",
    "    # print ('delta1', delta1.shape)\n",
    "    # delta1.shape - 25 * 401\n",
    "    \n",
    "    delta1 = (delta1 / m).flatten()\n",
    "    delta2 = (delta2 / m).flatten()\n",
    "    \n",
    "    delta = np.append(delta1, delta2)\n",
    "    #print ('delta', delta.shape)\n",
    "    \n",
    "    return delta"
   ]
  },
  {
   "cell_type": "code",
   "execution_count": 127,
   "metadata": {},
   "outputs": [
    {
     "name": "stdout",
     "output_type": "stream",
     "text": [
      "delta (10285,)\n"
     ]
    }
   ],
   "source": [
    "testB = backprop(t, 25, data_x, data_y, 10, 1)\n",
    "#testB"
   ]
  },
  {
   "cell_type": "code",
   "execution_count": 139,
   "metadata": {},
   "outputs": [],
   "source": [
    "def compGrad(theta, hid_size, x, y, num_labels, lam):\n",
    "    epsilon = 0.0001\n",
    "    grad = np.zeros(theta.shape)\n",
    "    for i in range(len(theta)):\n",
    "        theta_pos = copy.copy(theta)\n",
    "        theta_neg = copy.copy(theta)\n",
    "        theta_pos[i] += epsilon\n",
    "        theta_neg[i] -= epsilon\n",
    "        \n",
    "        grad[i] = (nnCost(theta_pos, hid_size, x, y, num_labels, lam) - nnCost(theta_neg, hid_size, x, y, num_labels, lam)) /2/epsilon\n",
    "    \n",
    "    return grad"
   ]
  },
  {
   "cell_type": "code",
   "execution_count": 177,
   "metadata": {},
   "outputs": [],
   "source": [
    "def checkGrad(in_size, hid_size, n_labels, m, lam=1):\n",
    "    # prep data\n",
    "    theta1 = randInit(in_size, hid_size)\n",
    "    #print (\"theta1\", theta1.shape)\n",
    "    theta2 = randInit(hid_size, n_labels)\n",
    "    #print (\"theta2\", theta2.shape)\n",
    "    x = randInit(in_size - 1, m)\n",
    "    #print (\"x\", x.shape)\n",
    "    y = (np.random.randint(1, n_labels+1, m)).reshape(m, 1)\n",
    "    \n",
    "    t1 = theta1.flatten()\n",
    "    t2 = theta2.flatten()\n",
    "    t = np.append(t1, t2)\n",
    "    \n",
    "    gradNN = backprop(t, hid_size, x, y, n_labels, lam)\n",
    "    gradC = compGrad(t, hid_size, x, y, n_labels, lam)\n",
    "    \n",
    "    diff = abs(gradNN - gradC)\n",
    "    \n",
    "    return (diff <= 1e-9).all() == True"
   ]
  },
  {
   "cell_type": "code",
   "execution_count": 179,
   "metadata": {},
   "outputs": [
    {
     "name": "stdout",
     "output_type": "stream",
     "text": [
      "Gradient check passed!\n"
     ]
    }
   ],
   "source": [
    "if checkGrad(3, 5, 3, 5) == True:\n",
    "    print ('Gradient check passed!')"
   ]
  },
  {
   "cell_type": "code",
   "execution_count": 173,
   "metadata": {},
   "outputs": [],
   "source": [
    "#yy = np.random.randint(1, 6, size=10)\n",
    "#yy = yy.reshape(10, 1)\n",
    "\n",
    "#yy = mReform(yy, 5)\n",
    "#yy"
   ]
  },
  {
   "cell_type": "code",
   "execution_count": 201,
   "metadata": {},
   "outputs": [],
   "source": [
    "def backpropReg(theta, hid_size, x, y, num_labels, lam):\n",
    "    m = x.shape[0]\n",
    "    inp_size = x.shape[1]\n",
    "    theta_cutoff = hid_size * (inp_size + 1)\n",
    "    theta1 = theta[:theta_cutoff].reshape((hid_size, inp_size + 1))\n",
    "    theta2 = theta[theta_cutoff:].reshape((num_labels, hid_size + 1))\n",
    "    \n",
    "    x = np.insert(x, 0, 1, axis = 1)\n",
    "    hidden = sigmoid(x.dot(theta1.T))\n",
    "    # a2 = hid\n",
    "    a2 = np.insert(hidden, 0, 1, axis = 1)\n",
    "    # a3 = pred\n",
    "    a3 = sigmoid(a2.dot(theta2.T))\n",
    "    y = mReform(y,  num_labels)\n",
    "    \n",
    "    error3 = a3 - y\n",
    "    #error3.shape - 5000 * 10\n",
    "    \n",
    "    # theta1 - 25 * 401\n",
    "    # theta2 - 10 * 26\n",
    "    # add 1 column to z2\n",
    "    z2 = x.dot(theta1.T)\n",
    "    z2 = np.insert(z2, 0, 1, axis = 1)\n",
    "    # z2.shape - 5000 * 26\n",
    "    \n",
    "    gz2 = sigmdGrad(z2)\n",
    "    # gz2.shape - 5000 * 26\n",
    "    \n",
    "    error2 = np.multiply(error3.dot(theta2), gz2)\n",
    "    #error2.shape - 5000 * 26\n",
    "    \n",
    "    delta2 = error3.T.dot(a2)\n",
    "    # delta2.shape - 10 * 26\n",
    "    \n",
    "    # ignore error2[:,0]\n",
    "    delta1 = error2[:, 1:].T.dot(x)\n",
    "    # delta1.shape - 25 * 401\n",
    "    \n",
    "    delta1 = delta1 / m\n",
    "    delta2 = delta2 / m\n",
    "    \n",
    "    reg1 = theta1 * lam / m\n",
    "    reg1[:, 0] = 0\n",
    "    reg2 = theta2 * lam / m\n",
    "    reg2[:, 0] = 0\n",
    "    \n",
    "    delta1 += reg1\n",
    "    delta2 += reg2\n",
    "    \n",
    "    delta = np.append(delta1.flatten(), delta2.flatten())\n",
    "    #print ('delta', delta.shape)\n",
    "    \n",
    "    return delta"
   ]
  },
  {
   "cell_type": "code",
   "execution_count": 202,
   "metadata": {},
   "outputs": [],
   "source": [
    "def compGradReg(theta, hid_size, x, y, num_labels, lam):\n",
    "    epsilon = 0.0001\n",
    "    grad = np.zeros(theta.shape)\n",
    "    for i in range(len(theta)):\n",
    "        theta_pos = copy.copy(theta)\n",
    "        theta_neg = copy.copy(theta)\n",
    "        theta_pos[i] += epsilon\n",
    "        theta_neg[i] -= epsilon\n",
    "        \n",
    "        grad[i] = (nnCostReg(theta_pos, hid_size, x, y, num_labels, lam) - nnCostReg(theta_neg, hid_size, x, y, num_labels, lam)) /2/epsilon\n",
    "    \n",
    "    return grad"
   ]
  },
  {
   "cell_type": "code",
   "execution_count": 203,
   "metadata": {},
   "outputs": [],
   "source": [
    "def checkGradReg(in_size, hid_size, n_labels, m, lam=1):\n",
    "    # prep data\n",
    "    theta1 = randInit(in_size, hid_size)\n",
    "    #print (\"theta1\", theta1.shape)\n",
    "    theta2 = randInit(hid_size, n_labels)\n",
    "    #print (\"theta2\", theta2.shape)\n",
    "    x = randInit(in_size - 1, m)\n",
    "    #print (\"x\", x.shape)\n",
    "    y = (np.random.randint(1, n_labels+1, m)).reshape(m, 1)\n",
    "    \n",
    "    t1 = theta1.flatten()\n",
    "    t2 = theta2.flatten()\n",
    "    t = np.append(t1, t2)\n",
    "    \n",
    "    gradNN = backpropReg(t, hid_size, x, y, n_labels, lam)\n",
    "    gradC = compGradReg(t, hid_size, x, y, n_labels, lam)\n",
    "    \n",
    "    diff = abs(gradNN - gradC)\n",
    "    \n",
    "    return (diff <= 1e-9).all() == True"
   ]
  },
  {
   "cell_type": "code",
   "execution_count": 204,
   "metadata": {},
   "outputs": [
    {
     "name": "stdout",
     "output_type": "stream",
     "text": [
      "Gradient check passed!\n"
     ]
    }
   ],
   "source": [
    "if checkGradReg(3, 5, 3, 5) == True:\n",
    "    print ('Gradient check passed!')\n",
    "else: print ('Go check again')"
   ]
  },
  {
   "cell_type": "code",
   "execution_count": 231,
   "metadata": {},
   "outputs": [
    {
     "name": "stdout",
     "output_type": "stream",
     "text": [
      "Warning: Maximum number of iterations has been exceeded.\n",
      "         Current function value: 0.319066\n",
      "         Iterations: 400\n",
      "         Function evaluations: 952\n",
      "         Gradient evaluations: 952\n"
     ]
    }
   ],
   "source": [
    "# learn the model with fmin_cg\n",
    "# initialize theta\n",
    "theta1 = randInit(400, 25)\n",
    "theta2 = randInit(25, 10)\n",
    "theta0 = np.append(theta1.flatten(), theta2.flatten())\n",
    "lam = 1\n",
    "hid_size = 25\n",
    "n_labels = 10\n",
    "x = data_x\n",
    "y = data_y\n",
    "\n",
    "myargs = (hid_size, x, y, n_labels, lam)\n",
    "\n",
    "# train the model\n",
    "train = fmin_cg(nnCostReg, theta0, args = myargs, fprime = backpropReg, maxiter = 400)\n",
    "#train = fmin_cg(nnCostReg, theta0, args = myargs, fprime = backpropReg)"
   ]
  },
  {
   "cell_type": "code",
   "execution_count": 232,
   "metadata": {},
   "outputs": [
    {
     "data": {
      "text/plain": [
       "array([-2.30460907e+00, -2.58706804e-06, -4.23571566e-06, ...,\n",
       "        1.61295836e+00, -3.24100744e-01,  1.39661960e+00])"
      ]
     },
     "execution_count": 232,
     "metadata": {},
     "output_type": "execute_result"
    }
   ],
   "source": [
    "train"
   ]
  },
  {
   "cell_type": "code",
   "execution_count": 214,
   "metadata": {},
   "outputs": [],
   "source": [
    "def predict(theta, hid_size, x, num_labels):\n",
    "    m = x.shape[0]\n",
    "    inp_size = x.shape[1]\n",
    "    theta_cutoff = hid_size * (inp_size + 1)\n",
    "    theta1 = theta[:theta_cutoff].reshape((hid_size, inp_size + 1))\n",
    "    theta2 = theta[theta_cutoff:].reshape((num_labels, hid_size + 1))\n",
    "    \n",
    "    x = np.insert(x, 0, 1, axis = 1)\n",
    "    hidden = sigmoid(x.dot(theta1.T))\n",
    "    # a2 = hid\n",
    "    a2 = np.insert(hidden, 0, 1, axis = 1)\n",
    "    # a3 = pred\n",
    "    a3 = sigmoid(a2.dot(theta2.T))\n",
    "    pred = np.argmax(a3, axis = 1)\n",
    "    pred += 1\n",
    "    \n",
    "    return pred"
   ]
  },
  {
   "cell_type": "code",
   "execution_count": 215,
   "metadata": {},
   "outputs": [],
   "source": [
    "def accuracy(y, pred):\n",
    "    y = y.flatten()\n",
    "    m = len(y)\n",
    "    count = (y == pred).sum()\n",
    "    accuracy = count / m\n",
    "    return accuracy"
   ]
  },
  {
   "cell_type": "code",
   "execution_count": 233,
   "metadata": {},
   "outputs": [
    {
     "data": {
      "text/plain": [
       "0.9942"
      ]
     },
     "execution_count": 233,
     "metadata": {},
     "output_type": "execute_result"
    }
   ],
   "source": [
    "pred = predict(train, 25, data_x, 10)\n",
    "accu = accuracy(data_y, pred)\n",
    "accu\n",
    "# the accuracy is 99.42% when lambda is 1\n",
    "# accu = 98.62% when lambda is 2\n",
    "# accu = 97.66% when lambda is 3"
   ]
  },
  {
   "cell_type": "code",
   "execution_count": 234,
   "metadata": {},
   "outputs": [
    {
     "data": {
      "text/plain": [
       "(25, 400)"
      ]
     },
     "execution_count": 234,
     "metadata": {},
     "output_type": "execute_result"
    }
   ],
   "source": [
    "# visualize hidden layer\n",
    "theta1 = train[:10025].reshape(25, 401)\n",
    "tt1 = theta1[:, 1:]\n",
    "tt1.shape"
   ]
  },
  {
   "cell_type": "code",
   "execution_count": 225,
   "metadata": {},
   "outputs": [],
   "source": [
    "def toMatrix(data, row, col):\n",
    "    mat = np.zeros(shape = (row, col))\n",
    "    m = 0\n",
    "    for j in range(col):\n",
    "        for i in range(row):\n",
    "            mat[i, j] = data[m]\n",
    "            m += 1\n",
    "    return mat"
   ]
  },
  {
   "cell_type": "code",
   "execution_count": 235,
   "metadata": {},
   "outputs": [
    {
     "data": {
      "image/png": "[encoded data removed]",
      "text/plain": [
       "<Figure size 432x288 with 1 Axes>"
      ]
     },
     "metadata": {},
     "output_type": "display_data"
    }
   ],
   "source": [
    "test2 = toMatrix(tt1[3, :], 20, 20)\n",
    "imgplot = plt.imshow(test2, cmap='gray')"
   ]
  },
  {
   "cell_type": "code",
   "execution_count": null,
   "metadata": {},
   "outputs": [],
   "source": []
  }
 ],
 "metadata": {
  "kernelspec": {
   "display_name": "Python 3",
   "language": "python",
   "name": "python3"
  },
  "language_info": {
   "codemirror_mode": {
    "name": "ipython",
    "version": 3
   },
   "file_extension": ".py",
   "mimetype": "text/x-python",
   "name": "python",
   "nbconvert_exporter": "python",
   "pygments_lexer": "ipython3",
   "version": "3.6.1"
  }
 },
 "nbformat": 4,
 "nbformat_minor": 2
}
