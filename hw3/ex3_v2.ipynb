{
 "cells": [
  {
   "cell_type": "code",
   "execution_count": 1,
   "metadata": {},
   "outputs": [],
   "source": [
    "from scipy.io import loadmat\n",
    "\n",
    "import pandas as pd\n",
    "import numpy as np\n",
    "\n",
    "from scipy.optimize import fmin_cg"
   ]
  },
  {
   "cell_type": "code",
   "execution_count": 2,
   "metadata": {},
   "outputs": [],
   "source": [
    "loc = r'C:\\Users\\c0w00f8.WMSC\\Documents\\Coursera\\1. Machine Learning\\machine-learning-ex3\\ex3\\ex3data1.mat'\n",
    "mat_data = loadmat(loc)\n",
    "data_x = mat_data['X']\n",
    "data_y = mat_data['y']"
   ]
  },
  {
   "cell_type": "code",
   "execution_count": 3,
   "metadata": {},
   "outputs": [
    {
     "data": {
      "text/plain": [
       "(5000, 400)"
      ]
     },
     "execution_count": 3,
     "metadata": {},
     "output_type": "execute_result"
    }
   ],
   "source": [
    "data_x.shape"
   ]
  },
  {
   "cell_type": "code",
   "execution_count": 4,
   "metadata": {},
   "outputs": [
    {
     "data": {
      "text/plain": [
       "numpy.float64"
      ]
     },
     "execution_count": 4,
     "metadata": {},
     "output_type": "execute_result"
    }
   ],
   "source": [
    "testt = np.zeros(shape = (1, 3))\n",
    "testt[0,1] = 1\n",
    "testt[0,2] = 2\n",
    "type((testt **2).sum())"
   ]
  },
  {
   "cell_type": "code",
   "execution_count": 5,
   "metadata": {},
   "outputs": [],
   "source": [
    "def sigmoid(x):\n",
    "    return 1 / (1 + np.exp(-x))\n",
    "sigmd = np.vectorize(sigmoid)"
   ]
  },
  {
   "cell_type": "code",
   "execution_count": 9,
   "metadata": {},
   "outputs": [],
   "source": [
    "def costReg(theta, x, y, lam):\n",
    "    if y.shape[0] != x.shape[0]:\n",
    "        y = y.T\n",
    "    if theta.shape[0] != x.shape[1]:\n",
    "        theta = theta.T\n",
    "    theta = theta.reshape(x.shape[1], 1)\n",
    "    print (\"y\", type(y), y.shape)\n",
    "    print (\"x\", type(x), x.shape)\n",
    "    print (\"theta\", type(theta), theta.shape)\n",
    "    \n",
    "    m = x.shape[0]\n",
    "    #print (\"m\", m)\n",
    "    \n",
    "    hx = sigmd(x.dot(theta))\n",
    "    #print (\"hx\", type(hx), hx.shape)\n",
    "    \n",
    "    mat1 = np.zeros(shape = (m, 1))\n",
    "    mat1[mat1 == 0] = 1\n",
    "    #print (\"mat1\", type(mat1), mat1.shape)\n",
    "    \n",
    "    j = (- y * np.log(hx) - (mat1 - y) * np.log(mat1 - hx)).sum() / m + (theta ** 2).sum() * lam / 2 / m\n",
    "    #print (\"j type: \", type(j))\n",
    "    \n",
    "    \n",
    "    return j"
   ]
  },
  {
   "cell_type": "code",
   "execution_count": 10,
   "metadata": {},
   "outputs": [
    {
     "name": "stdout",
     "output_type": "stream",
     "text": [
      "y <class 'numpy.ndarray'> (5000,)\n",
      "x <class 'numpy.ndarray'> (5000, 401)\n",
      "theta <class 'numpy.ndarray'> (401, 1)\n"
     ]
    },
    {
     "data": {
      "text/plain": [
       "-795039.8161022777"
      ]
     },
     "execution_count": 10,
     "metadata": {},
     "output_type": "execute_result"
    }
   ],
   "source": [
    "test = main(data_x, data_y)\n",
    "test"
   ]
  },
  {
   "cell_type": "code",
   "execution_count": 7,
   "metadata": {},
   "outputs": [],
   "source": [
    "def main(x, y):\n",
    "    x = np.insert(x, 0, 1, axis = 1)\n",
    "    y[y==10] = 0\n",
    "    theta0 = np.zeros(shape = (1, x.shape[1]))    \n",
    "    lam = 1\n",
    "    cost = costReg(theta0, x, y, lam)\n",
    "    #grad = gradReg(theta0, x, y, lam)\n",
    "    #grad = gradReg2(theta0, x, y, lam)\n",
    "    \n",
    "    return cost"
   ]
  },
  {
   "cell_type": "code",
   "execution_count": 25,
   "metadata": {},
   "outputs": [],
   "source": [
    "def gradReg(theta, x, y, lam):    \n",
    "    #x = np.mat(x)\n",
    "    #y = np.mat(y)\n",
    "    if y.shape[0] != x.shape[0]:\n",
    "        y = y.T\n",
    "    if theta.shape[0] != x.shape[1]:\n",
    "        theta = theta.T\n",
    "    theta = theta.reshape(x.shape[1], 1)\n",
    "    #print (\"y\", type(y), y.shape)\n",
    "    #print (\"x\", type(x), x.shape)\n",
    "    #print (\"theta\", type(theta), theta.shape)\n",
    "    \n",
    "    m = x.shape[0]\n",
    "    #print (\"m\", m)\n",
    "    \n",
    "    hx = sigmd(np.dot(x, theta))\n",
    "    #print (\"hx\", type(hx), hx.shape)\n",
    "    \n",
    "    loss = hx - y\n",
    "    #print (\"loss\", type(loss), loss.shape)\n",
    "\n",
    "    grad = np.dot(x.T, loss)\n",
    "    #print (\"grad\", type(grad), grad.shape)\n",
    "\n",
    "    reg = (theta * lam / m)\n",
    "    reg[0,0] = 0\n",
    "    #print (\"reg\", type(reg), reg.shape)\n",
    "    \n",
    "    grad = (grad + reg)\n",
    "    #print (\"grad\", type(grad), grad.shape)\n",
    "    \n",
    "    grad = np.array(grad).reshape(x.shape[1],)\n",
    "    \n",
    "\n",
    "    return grad"
   ]
  },
  {
   "cell_type": "code",
   "execution_count": 26,
   "metadata": {},
   "outputs": [],
   "source": [
    "def gradReg2(theta, x, y, lam):    \n",
    "    x = pd.DataFrame(x)\n",
    "    y = pd.DataFrame(y)\n",
    "    theta = pd.DataFrame(theta)\n",
    "    if y.shape[0] != x.shape[0]:\n",
    "        y = y.T\n",
    "    if theta.shape[0] != x.shape[1]:\n",
    "        theta = theta.T\n",
    "\n",
    "    #print (\"y\", type(y), y.shape)\n",
    "    #print (\"x\", type(x), x.shape)\n",
    "    #print (\"theta\", type(theta), theta.shape)\n",
    "    \n",
    "    m = x.shape[0]\n",
    "    #print (\"m\", m)\n",
    "    \n",
    "    hx = sigmd(np.dot(x, theta))\n",
    "    #print (\"hx\", type(hx), hx.shape)\n",
    "    \n",
    "    loss = hx - y\n",
    "    #print (\"loss\", type(loss), loss.shape)\n",
    "\n",
    "    grad = np.dot(x.T, loss)\n",
    "    #print (\"grad\", type(grad), grad.shape)\n",
    "\n",
    "    reg = (theta * lam / m)\n",
    "    reg.iloc[0,0] = 0\n",
    "    #print (\"reg\", type(reg), reg.shape)\n",
    "    \n",
    "    grad = (grad + reg)\n",
    "    #print (\"grad\", type(grad), grad.shape)\n",
    "    \n",
    "    grad = np.array(grad).reshape(x.shape[1],)\n",
    "    \n",
    "\n",
    "    return grad"
   ]
  },
  {
   "cell_type": "code",
   "execution_count": 31,
   "metadata": {},
   "outputs": [],
   "source": [
    "def oneVsAll(x, y, num_labels, lam):\n",
    "    x = np.insert(x, 0, 1, axis = 1)\n",
    "    y[y==10] = 0\n",
    "    theta0 = np.zeros(shape = (1, x.shape[1]))\n",
    "    \n",
    "    theta_all = np.zeros(shape = (num_labels, x.shape[1]))\n",
    "    for k in range(num_labels):\n",
    "        label = (y == k).astype(int).T\n",
    "        # label - 5000 * 1\n",
    "        train = fmin_cg(costReg, theta0, args = (x, label, lam), fprime = gradReg)\n",
    "        \n",
    "        theta_all[k] = train\n",
    "    return theta_all"
   ]
  },
  {
   "cell_type": "code",
   "execution_count": 42,
   "metadata": {},
   "outputs": [
    {
     "name": "stdout",
     "output_type": "stream",
     "text": [
      "Warning: Desired error not necessarily achieved due to precision loss.\n",
      "         Current function value: 0.025474\n",
      "         Iterations: 39\n",
      "         Function evaluations: 2073\n",
      "         Gradient evaluations: 2061\n"
     ]
    }
   ],
   "source": [
    "x = np.insert(data_x, 0, 1, axis = 1)\n",
    "y = data_y\n",
    "y[y==10] = 0\n",
    "label = (y == 0).astype(int).T\n",
    "theta0 = np.zeros(shape = (1, x.shape[1]))\n",
    "\n",
    "testttt = fmin_cg(costReg, theta0, args = (x, label, 1), fprime = gradReg)"
   ]
  },
  {
   "cell_type": "code",
   "execution_count": 43,
   "metadata": {},
   "outputs": [
    {
     "name": "stdout",
     "output_type": "stream",
     "text": [
      "Warning: Desired error not necessarily achieved due to precision loss.\n",
      "         Current function value: 0.025474\n",
      "         Iterations: 39\n",
      "         Function evaluations: 2073\n",
      "         Gradient evaluations: 2061\n",
      "Warning: Desired error not necessarily achieved due to precision loss.\n",
      "         Current function value: 0.031016\n",
      "         Iterations: 36\n",
      "         Function evaluations: 2139\n",
      "         Gradient evaluations: 2127\n",
      "Warning: Desired error not necessarily achieved due to precision loss.\n",
      "         Current function value: 0.073537\n",
      "         Iterations: 43\n",
      "         Function evaluations: 1964\n",
      "         Gradient evaluations: 1952\n",
      "Warning: Desired error not necessarily achieved due to precision loss.\n",
      "         Current function value: 0.078223\n",
      "         Iterations: 45\n",
      "         Function evaluations: 2116\n",
      "         Gradient evaluations: 2104\n",
      "Warning: Desired error not necessarily achieved due to precision loss.\n",
      "         Current function value: 0.057827\n",
      "         Iterations: 56\n",
      "         Function evaluations: 2637\n",
      "         Gradient evaluations: 2625\n",
      "Warning: Desired error not necessarily achieved due to precision loss.\n",
      "         Current function value: 0.082944\n",
      "         Iterations: 55\n",
      "         Function evaluations: 2243\n",
      "         Gradient evaluations: 2231\n",
      "Warning: Desired error not necessarily achieved due to precision loss.\n",
      "         Current function value: 0.040117\n",
      "         Iterations: 44\n",
      "         Function evaluations: 2220\n",
      "         Gradient evaluations: 2208\n",
      "Warning: Desired error not necessarily achieved due to precision loss.\n",
      "         Current function value: 0.050333\n",
      "         Iterations: 42\n",
      "         Function evaluations: 1909\n",
      "         Gradient evaluations: 1897\n",
      "Warning: Desired error not necessarily achieved due to precision loss.\n",
      "         Current function value: 0.105296\n",
      "         Iterations: 55\n",
      "         Function evaluations: 2224\n",
      "         Gradient evaluations: 2212\n",
      "Warning: Desired error not necessarily achieved due to precision loss.\n",
      "         Current function value: 0.097181\n",
      "         Iterations: 50\n",
      "         Function evaluations: 2156\n",
      "         Gradient evaluations: 2145\n"
     ]
    }
   ],
   "source": [
    "testOne = oneVsAll(data_x, data_y, 10, 1)"
   ]
  },
  {
   "cell_type": "code",
   "execution_count": 45,
   "metadata": {},
   "outputs": [
    {
     "data": {
      "text/plain": [
       "(10, 401)"
      ]
     },
     "execution_count": 45,
     "metadata": {},
     "output_type": "execute_result"
    }
   ],
   "source": [
    "testOne.shape"
   ]
  },
  {
   "cell_type": "code",
   "execution_count": 46,
   "metadata": {},
   "outputs": [],
   "source": [
    "def predOneVsAll(x, theta):\n",
    "    x = np.insert(x, 0, 1, axis = 1)\n",
    "    \n",
    "    hx = sigmd(x.dot(theta.T))\n",
    "    \n",
    "    pred = np.argmax(hx, axis = 1)\n",
    "    \n",
    "    pred[pred == 0] = 10\n",
    "    \n",
    "    return pred"
   ]
  },
  {
   "cell_type": "code",
   "execution_count": 48,
   "metadata": {},
   "outputs": [],
   "source": [
    "pred_test = predOneVsAll(data_x, testOne)"
   ]
  },
  {
   "cell_type": "code",
   "execution_count": 59,
   "metadata": {},
   "outputs": [],
   "source": [
    "def accuracy(y, pred):\n",
    "    m = y.shape[0]\n",
    "    y = np.array(y.flatten())\n",
    "    count = (y == pred).sum()\n",
    "    accuracy = count / m\n",
    "    return accuracy"
   ]
  },
  {
   "cell_type": "code",
   "execution_count": 60,
   "metadata": {},
   "outputs": [
    {
     "data": {
      "text/plain": [
       "0.8316"
      ]
     },
     "execution_count": 60,
     "metadata": {},
     "output_type": "execute_result"
    }
   ],
   "source": [
    "accu = accuracy(data_y, pred_test)\n",
    "accu"
   ]
  }
 ],
 "metadata": {
  "kernelspec": {
   "display_name": "Python 3",
   "language": "python",
   "name": "python3"
  },
  "language_info": {
   "codemirror_mode": {
    "name": "ipython",
    "version": 3
   },
   "file_extension": ".py",
   "mimetype": "text/x-python",
   "name": "python",
   "nbconvert_exporter": "python",
   "pygments_lexer": "ipython3",
   "version": "3.6.1"
  }
 },
 "nbformat": 4,
 "nbformat_minor": 2
}
