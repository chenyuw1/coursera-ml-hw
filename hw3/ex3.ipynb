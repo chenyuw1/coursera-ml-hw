{
 "cells": [
  {
   "cell_type": "code",
   "execution_count": 11,
   "metadata": {},
   "outputs": [],
   "source": [
    "# import scipy to read .mat file\n",
    "from scipy.io import loadmat\n",
    "\n",
    "import pandas as pd\n",
    "import numpy as np\n",
    "import matplotlib.pyplot as plt\n",
    "import matplotlib.image as mpimg\n",
    "\n",
    "# fmin_cg\n",
    "from scipy.optimize import fmin_cg\n",
    "\n",
    "%matplotlib inline"
   ]
  },
  {
   "cell_type": "code",
   "execution_count": 396,
   "metadata": {},
   "outputs": [],
   "source": [
    "loc = 'C:\\Program Files\\Python36\\Scripts\\Coursera_ML\\ex3\\ex3data1.mat'\n",
    "mat = loadmat(loc)"
   ]
  },
  {
   "cell_type": "code",
   "execution_count": 397,
   "metadata": {},
   "outputs": [
    {
     "data": {
      "text/plain": [
       "(5000, 401)"
      ]
     },
     "execution_count": 397,
     "metadata": {},
     "output_type": "execute_result"
    }
   ],
   "source": [
    "data_x = pd.DataFrame(mat['X'])\n",
    "data_y = pd.DataFrame(mat['y'])\n",
    "data = pd.concat([data_x, data_y], axis = 1)\n",
    "data.shape"
   ]
  },
  {
   "cell_type": "code",
   "execution_count": 398,
   "metadata": {},
   "outputs": [
    {
     "data": {
      "text/plain": [
       "0      0.000000\n",
       "1      0.000000\n",
       "2      0.000000\n",
       "3      0.000000\n",
       "4      0.000000\n",
       "5      0.000000\n",
       "6      0.000000\n",
       "7      0.000000\n",
       "8      0.000000\n",
       "9      0.000000\n",
       "10     0.000000\n",
       "11     0.000000\n",
       "12     0.000000\n",
       "13     0.000000\n",
       "14     0.000000\n",
       "15     0.000000\n",
       "16     0.000000\n",
       "17     0.000000\n",
       "18     0.000000\n",
       "19     0.000000\n",
       "20     0.000000\n",
       "21     0.000000\n",
       "22     0.000000\n",
       "23     0.000000\n",
       "24     0.000000\n",
       "25     0.000000\n",
       "26     0.000000\n",
       "27     0.000000\n",
       "28     0.000000\n",
       "29     0.000000\n",
       "         ...   \n",
       "370    0.000533\n",
       "371    0.000000\n",
       "372    0.000000\n",
       "373    0.000000\n",
       "374    0.000000\n",
       "375    0.000000\n",
       "376    0.000000\n",
       "377    0.000000\n",
       "378    0.000000\n",
       "379    0.000000\n",
       "380    0.000000\n",
       "381    0.000000\n",
       "382    0.000000\n",
       "383    0.000000\n",
       "384    0.000000\n",
       "385    0.000000\n",
       "386    0.000000\n",
       "387    0.000000\n",
       "388    0.000000\n",
       "389    0.000000\n",
       "390    0.000000\n",
       "391    0.000000\n",
       "392    0.000000\n",
       "393    0.000000\n",
       "394    0.000000\n",
       "395    0.000000\n",
       "396    0.000000\n",
       "397    0.000000\n",
       "398    0.000000\n",
       "399    0.000000\n",
       "Name: 4999, Length: 400, dtype: float64"
      ]
     },
     "execution_count": 398,
     "metadata": {},
     "output_type": "execute_result"
    }
   ],
   "source": [
    "data_x.iloc[4999, :]"
   ]
  },
  {
   "cell_type": "code",
   "execution_count": 4,
   "metadata": {},
   "outputs": [],
   "source": [
    "def dispData(data, row, col):\n",
    "    mat = np.array(data).reshape((row, col)).T\n",
    "    imgplt = plt.imshow(mat, cmap='gray')\n",
    "    return imgplt"
   ]
  },
  {
   "cell_type": "code",
   "execution_count": 5,
   "metadata": {},
   "outputs": [
    {
     "data": {
      "text/plain": [
       "<matplotlib.image.AxesImage at 0x11adecf8>"
      ]
     },
     "execution_count": 5,
     "metadata": {},
     "output_type": "execute_result"
    },
    {
     "data": {
      "image/png": "[encoded data removed]",
      "text/plain": [
       "<Figure size 432x288 with 1 Axes>"
      ]
     },
     "metadata": {},
     "output_type": "display_data"
    }
   ],
   "source": [
    "dispData(data_x.iloc[1980, :], 20, 20)"
   ]
  },
  {
   "cell_type": "code",
   "execution_count": 6,
   "metadata": {},
   "outputs": [],
   "source": [
    "def sigmoid(x):\n",
    "    return 1 / (1 + np.exp(-x))\n",
    "\n",
    "sigmd = np.vectorize(sigmoid)"
   ]
  },
  {
   "cell_type": "code",
   "execution_count": 434,
   "metadata": {},
   "outputs": [
    {
     "data": {
      "text/plain": [
       "0           NaN\n",
       "0      0.000000\n",
       "1      0.000000\n",
       "2      0.000000\n",
       "3      0.000000\n",
       "4      0.000000\n",
       "5      0.000000\n",
       "6      0.000000\n",
       "7      0.000000\n",
       "8      0.000000\n",
       "9      0.000000\n",
       "10     0.000000\n",
       "11     0.000000\n",
       "12     0.000000\n",
       "13     0.000000\n",
       "14     0.000000\n",
       "15     0.000000\n",
       "16     0.000000\n",
       "17     0.000000\n",
       "18     0.000000\n",
       "19     0.000000\n",
       "20     0.000000\n",
       "21     0.000000\n",
       "22     0.000000\n",
       "23     0.000000\n",
       "24     0.000000\n",
       "25     0.000000\n",
       "26     0.000000\n",
       "27     0.000000\n",
       "28     0.000000\n",
       "         ...   \n",
       "370    0.000533\n",
       "371    0.000000\n",
       "372    0.000000\n",
       "373    0.000000\n",
       "374    0.000000\n",
       "375    0.000000\n",
       "376    0.000000\n",
       "377    0.000000\n",
       "378    0.000000\n",
       "379    0.000000\n",
       "380    0.000000\n",
       "381    0.000000\n",
       "382    0.000000\n",
       "383    0.000000\n",
       "384    0.000000\n",
       "385    0.000000\n",
       "386    0.000000\n",
       "387    0.000000\n",
       "388    0.000000\n",
       "389    0.000000\n",
       "390    0.000000\n",
       "391    0.000000\n",
       "392    0.000000\n",
       "393    0.000000\n",
       "394    0.000000\n",
       "395    0.000000\n",
       "396    0.000000\n",
       "397    0.000000\n",
       "398    0.000000\n",
       "399    0.000000\n",
       "Name: 4999, Length: 401, dtype: float64"
      ]
     },
     "execution_count": 434,
     "metadata": {},
     "output_type": "execute_result"
    }
   ],
   "source": [
    "aaa = testx.iloc[4999, :]\n",
    "\n"
   ]
  },
  {
   "cell_type": "code",
   "execution_count": 510,
   "metadata": {},
   "outputs": [],
   "source": [
    "# vectorized cost function\n",
    "def costFunc_reg(theta, x, y, l):\n",
    "    m = len(y)\n",
    "    theta = np.array(theta)\n",
    "    y = np.array(y)\n",
    "    hx = sigmd(x.dot(theta))\n",
    "    #print (np.isnan(hx).astype(int))\n",
    "    \n",
    "    if (hx.all() != 0) and ((1 - hx).all() != 0):\n",
    "        theta_2 = [ theta[i] ** 2 for i in range(len(theta)) ]\n",
    "        \n",
    "        j = (- y.T * np.log(hx) - (1. - y.T) * np.log(1 - hx)).sum() / m + l * sum(theta_2) / 2. / m\n",
    "    \n",
    "    \n",
    "    else: j = 100000\n",
    "    \n",
    "    #j = np.array(j)\n",
    "    \n",
    "    return j"
   ]
  },
  {
   "cell_type": "code",
   "execution_count": 511,
   "metadata": {},
   "outputs": [],
   "source": [
    "def grad_reg(theta, x, y, l):\n",
    "    m = len(y)\n",
    "    theta = np.array(theta)\n",
    "    y = np.array(y)\n",
    "    hx = sigmd(np.dot(x, theta))\n",
    "    \n",
    "    loss = hx - y.T\n",
    "    grad = np.dot(loss, x) / m \n",
    "    reg = [elem * l * 1. / m for elem in theta]\n",
    "    grad += reg\n",
    "\n",
    "    grad[0] = ((hx[0] - y[0]) * x.iloc[0, :]).sum() / m\n",
    "    \n",
    "    return grad.flatten()"
   ]
  },
  {
   "cell_type": "code",
   "execution_count": 508,
   "metadata": {},
   "outputs": [],
   "source": [
    "# test scipy.optimize.fmin_cg\n",
    "l = 1\n",
    "x0 = [1] * data_x.shape[0]\n",
    "df0 = pd.DataFrame(x0)\n",
    "testx = pd.concat([df0, data_x], axis = 1)\n",
    "testx\n",
    "testy = (data_y == 1).astype(int)\n",
    "theta0 = [0] * testx.shape[1]\n",
    "myarg = (testx, testy, l)\n",
    "\n",
    "\n",
    "#cf = costFunc_reg(theta0, testx, testy, l)\n",
    "#cf\n",
    "#grad = grad_reg(theta0, testx, testy, l)\n",
    "#np.shape(grad)\n",
    "\n",
    "#theta_test = fmin_cg(costFunc_reg, theta0, args = myarg, fprime = grad_reg)\n",
    "#theta_test"
   ]
  },
  {
   "cell_type": "code",
   "execution_count": 512,
   "metadata": {},
   "outputs": [
    {
     "name": "stdout",
     "output_type": "stream",
     "text": [
      "Warning: Desired error not necessarily achieved due to precision loss.\n",
      "         Current function value: 0.246868\n",
      "         Iterations: 2\n",
      "         Function evaluations: 107\n",
      "         Gradient evaluations: 95\n"
     ]
    }
   ],
   "source": [
    "theta_test = fmin_cg(costFunc_reg, theta0, args = myarg, fprime = grad_reg, disp = 1, retall = 1)\n",
    "#theta_test"
   ]
  },
  {
   "cell_type": "code",
   "execution_count": 441,
   "metadata": {},
   "outputs": [],
   "source": [
    "# one-vs-all classification\n",
    "def oneVsAll(x, y, num_labels, l):\n",
    "    \n",
    "    # add x0=1 to x\n",
    "    x0 = pd.DataFrame([1] * x.shape[0])\n",
    "    x = pd.concat([x0, x], axis = 1)\n",
    "    \n",
    "    # apply one-vs-all algorithm\n",
    "    m, n = x.shape\n",
    "    theta0 = np.zeros(shape = (1, n))\n",
    "    theta = np.zeros(shape = (num_labels, n))\n",
    "    for k in range(num_labels):\n",
    "        label = (y == k).astype(int)\n",
    "        train = fmin_cg(costFunc_reg, theta0, args = (x, y, l), fprime = grad_reg, full_output = 1)\n",
    "        theta[k] = train[0]\n",
    "    return theta"
   ]
  },
  {
   "cell_type": "code",
   "execution_count": null,
   "metadata": {},
   "outputs": [
    {
     "name": "stdout",
     "output_type": "stream",
     "text": [
      "Warning: Desired error not necessarily achieved due to precision loss.\n",
      "         Current function value: -176.752531\n",
      "         Iterations: 0\n",
      "         Function evaluations: 107\n",
      "         Gradient evaluations: 95\n",
      "Warning: Desired error not necessarily achieved due to precision loss.\n",
      "         Current function value: -176.752531\n",
      "         Iterations: 0\n",
      "         Function evaluations: 107\n",
      "         Gradient evaluations: 95\n",
      "Warning: Desired error not necessarily achieved due to precision loss.\n",
      "         Current function value: -176.752531\n",
      "         Iterations: 0\n",
      "         Function evaluations: 107\n",
      "         Gradient evaluations: 95\n",
      "Warning: Desired error not necessarily achieved due to precision loss.\n",
      "         Current function value: -176.752531\n",
      "         Iterations: 0\n",
      "         Function evaluations: 107\n",
      "         Gradient evaluations: 95\n",
      "Warning: Desired error not necessarily achieved due to precision loss.\n",
      "         Current function value: -176.752531\n",
      "         Iterations: 0\n",
      "         Function evaluations: 107\n",
      "         Gradient evaluations: 95\n",
      "Warning: Desired error not necessarily achieved due to precision loss.\n",
      "         Current function value: -176.752531\n",
      "         Iterations: 0\n",
      "         Function evaluations: 107\n",
      "         Gradient evaluations: 95\n",
      "Warning: Desired error not necessarily achieved due to precision loss.\n",
      "         Current function value: -176.752531\n",
      "         Iterations: 0\n",
      "         Function evaluations: 107\n",
      "         Gradient evaluations: 95\n",
      "Warning: Desired error not necessarily achieved due to precision loss.\n",
      "         Current function value: -176.752531\n",
      "         Iterations: 0\n",
      "         Function evaluations: 107\n",
      "         Gradient evaluations: 95\n"
     ]
    }
   ],
   "source": [
    "theta_opt = oneVsAll(data_x, data_y, 10, 1)\n",
    "theta_opt.shape"
   ]
  },
  {
   "cell_type": "code",
   "execution_count": 288,
   "metadata": {},
   "outputs": [
    {
     "data": {
      "text/plain": [
       "array([[0., 0., 0., ..., 0., 0., 0.],\n",
       "       [0., 0., 0., ..., 0., 0., 0.],\n",
       "       [0., 0., 0., ..., 0., 0., 0.],\n",
       "       ...,\n",
       "       [0., 0., 0., ..., 0., 0., 0.],\n",
       "       [0., 0., 0., ..., 0., 0., 0.],\n",
       "       [0., 0., 0., ..., 0., 0., 0.]])"
      ]
     },
     "execution_count": 288,
     "metadata": {},
     "output_type": "execute_result"
    }
   ],
   "source": [
    "theta_opt"
   ]
  }
 ],
 "metadata": {
  "kernelspec": {
   "display_name": "Python 3",
   "language": "python",
   "name": "python3"
  },
  "language_info": {
   "codemirror_mode": {
    "name": "ipython",
    "version": 3
   },
   "file_extension": ".py",
   "mimetype": "text/x-python",
   "name": "python",
   "nbconvert_exporter": "python",
   "pygments_lexer": "ipython3",
   "version": "3.6.1"
  }
 },
 "nbformat": 4,
 "nbformat_minor": 2
}
