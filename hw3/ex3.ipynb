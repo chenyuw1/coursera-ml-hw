{
 "cells": [
  {
   "cell_type": "code",
   "execution_count": 1,
   "metadata": {
    "collapsed": true
   },
   "outputs": [],
   "source": [
    "# import scipy to read .mat file\n",
    "from scipy.io import loadmat\n",
    "\n",
    "import pandas as pd\n",
    "import numpy as np\n",
    "import matplotlib.pyplot as plt\n",
    "import matplotlib.image as mpimg\n",
    "\n",
    "# fmin_cg\n",
    "from scipy.optimize import fmin_cg\n",
    "\n",
    "%matplotlib inline"
   ]
  },
  {
   "cell_type": "code",
   "execution_count": 2,
   "metadata": {
    "collapsed": true
   },
   "outputs": [],
   "source": [
    "loc = '/Users/Chenyu/Documents/Coursera/Machine Learning/hw3/machine-learning-ex3/ex3/ex3data1.mat'\n",
    "mat = loadmat(loc)"
   ]
  },
  {
   "cell_type": "code",
   "execution_count": 3,
   "metadata": {},
   "outputs": [
    {
     "data": {
      "text/plain": [
       "(5000, 401)"
      ]
     },
     "execution_count": 3,
     "metadata": {},
     "output_type": "execute_result"
    }
   ],
   "source": [
    "data_x = pd.DataFrame(mat['X'])\n",
    "data_y = pd.DataFrame(mat['y'])\n",
    "data = pd.concat([data_x, data_y], axis = 1)\n",
    "data.shape"
   ]
  },
  {
   "cell_type": "code",
   "execution_count": 5,
   "metadata": {
    "collapsed": true
   },
   "outputs": [],
   "source": [
    "def dispData(data, row, col):\n",
    "    mat = np.array(data).reshape((row, col)).T\n",
    "    imgplt = plt.imshow(mat, cmap='gray')\n",
    "    return imgplt"
   ]
  },
  {
   "cell_type": "code",
   "execution_count": 6,
   "metadata": {},
   "outputs": [
    {
     "data": {
      "text/plain": [
       "<matplotlib.image.AxesImage at 0x1111330f0>"
      ]
     },
     "execution_count": 6,
     "metadata": {},
     "output_type": "execute_result"
    },
    {
     "data": {
      "image/png": "[encoded data removed]",
      "text/plain": [
       "<matplotlib.figure.Figure at 0x11b69b668>"
      ]
     },
     "metadata": {},
     "output_type": "display_data"
    }
   ],
   "source": [
    "dispData(data_x.iloc[1980, :], 20, 20)"
   ]
  },
  {
   "cell_type": "code",
   "execution_count": 7,
   "metadata": {
    "collapsed": true
   },
   "outputs": [],
   "source": [
    "def sigmoid(x):\n",
    "    return 1 / (1 + np.exp(-x))\n",
    "\n",
    "sigmd = np.vectorize(sigmoid)"
   ]
  },
  {
   "cell_type": "code",
   "execution_count": 57,
   "metadata": {
    "collapsed": true
   },
   "outputs": [],
   "source": [
    "# vectorized cost function\n",
    "def costFunc_reg(theta, x, y, l):\n",
    "    m = len(y)\n",
    "    theta = np.array(theta)\n",
    "    y = np.array(y)\n",
    "    hx = sigmd(x.dot(theta.T))\n",
    "    \n",
    "    if (hx.all() != 0) and ((1 - hx).all() != 0):\n",
    "        \n",
    "        j = (- y.T * np.log(hx) - (1. - y.T) * np.log(1 - hx)).sum() / m + l * (theta ** 2).sum() / 2. / m\n",
    "    \n",
    "    \n",
    "    else: j = 100000\n",
    "    \n",
    "    #j = np.array(j)\n",
    "    \n",
    "    return j"
   ]
  },
  {
   "cell_type": "code",
   "execution_count": 48,
   "metadata": {},
   "outputs": [
    {
     "data": {
      "text/plain": [
       "array([ 555. ,    3. ,    4.5,    6. ])"
      ]
     },
     "execution_count": 48,
     "metadata": {},
     "output_type": "execute_result"
    }
   ],
   "source": [
    "test = np.array([1, 2, 3, 4])\n",
    "test2 = (test / 2.).flatten()\n",
    "test3 = test2 + test\n",
    "test3[0] = 555\n",
    "test3"
   ]
  },
  {
   "cell_type": "code",
   "execution_count": 56,
   "metadata": {},
   "outputs": [
    {
     "data": {
      "text/plain": [
       "30"
      ]
     },
     "execution_count": 56,
     "metadata": {},
     "output_type": "execute_result"
    }
   ],
   "source": [
    "test = np.array([1, 2, 3, 4])\n",
    "test_2 = test ** 2\n",
    "test_2.sum()"
   ]
  },
  {
   "cell_type": "code",
   "execution_count": 103,
   "metadata": {
    "collapsed": true
   },
   "outputs": [],
   "source": [
    "#############################################################\n",
    "## It's important to keep the grad and theta as the 1d array\n",
    "## when doing the calculations\n",
    "#############################################################\n",
    "\n",
    "\n",
    "def grad_reg(theta, x, y, l):\n",
    "    m = len(y)\n",
    "    theta = np.array(theta)\n",
    "    y = np.array(y)\n",
    "    hx = sigmd(np.dot(x, theta.T))\n",
    "    \n",
    "    loss = hx - y.T\n",
    "    #print (\"loss shape: \", np.shape(loss))\n",
    "    grad = (np.dot(loss, x) / m).flatten()\n",
    "    #print (\"grad shape: \", np.shape(grad))\n",
    "    #print (\"theta shape: \", np.shape(theta))\n",
    "    reg = [elem * l * 1. / m for elem in theta]\n",
    "    #print (\"reg shape: \", np.shape(reg))\n",
    "    grad += reg\n",
    "    \n",
    "    #grad = np.dot(hx - y.T, x) / m + theta * l / m\n",
    "    #print (\"grad shape: \", np.shape(grad))\n",
    "\n",
    "    grad[0] = ((hx[0] - y[0]) * x.iloc[0, :]).sum() / m\n",
    "    \n",
    "    return grad"
   ]
  },
  {
   "cell_type": "code",
   "execution_count": 104,
   "metadata": {},
   "outputs": [
    {
     "data": {
      "text/plain": [
       "(401,)"
      ]
     },
     "execution_count": 104,
     "metadata": {},
     "output_type": "execute_result"
    }
   ],
   "source": [
    "# test scipy.optimize.fmin_cg\n",
    "l = 1\n",
    "x0 = [1] * data_x.shape[0]\n",
    "df0 = pd.DataFrame(x0)\n",
    "testx = pd.concat([df0, data_x], axis = 1)\n",
    "#testx\n",
    "testy = (data_y == 1).astype(int)\n",
    "theta0 = [0] * testx.shape[1]\n",
    "myarg = (testx, testy, l)\n",
    "\n",
    "\n",
    "#cf = costFunc_reg(theta0, testx, testy, l)\n",
    "#cf\n",
    "#grad = grad_reg(theta0, testx, testy, l)\n",
    "#np.shape(grad)\n",
    "\n",
    "#theta_test = fmin_cg(costFunc_reg, theta0, args = myarg, fprime = grad_reg)\n",
    "#theta_test"
   ]
  },
  {
   "cell_type": "code",
   "execution_count": 105,
   "metadata": {},
   "outputs": [
    {
     "name": "stdout",
     "output_type": "stream",
     "text": [
      "Optimization terminated successfully.\n",
      "         Current function value: 0.027971\n",
      "         Iterations: 59\n",
      "         Function evaluations: 209\n",
      "         Gradient evaluations: 209\n"
     ]
    }
   ],
   "source": [
    "#theta_test = fmin_cg(costFunc_reg, theta0, args = myarg, fprime = grad_reg, disp = 1, retall = 1)\n",
    "theta_test = fmin_cg(costFunc_reg, theta0, args = myarg, fprime = grad_reg)"
   ]
  },
  {
   "cell_type": "code",
   "execution_count": 66,
   "metadata": {},
   "outputs": [
    {
     "data": {
      "text/plain": [
       "(401,)"
      ]
     },
     "execution_count": 66,
     "metadata": {},
     "output_type": "execute_result"
    }
   ],
   "source": [
    "np.shape(theta_test)"
   ]
  },
  {
   "cell_type": "code",
   "execution_count": 88,
   "metadata": {
    "collapsed": true
   },
   "outputs": [],
   "source": [
    "# one-vs-all classification\n",
    "def oneVsAll(x, y, num_labels, l):\n",
    "    \n",
    "    # add x0=1 to x\n",
    "    x0 = [1] * x.shape[0]\n",
    "    df0 = pd.DataFrame(x0)\n",
    "    x = pd.concat([df0, x], axis = 1)\n",
    "    \n",
    "    # apply one-vs-all algorithm\n",
    "    m, n = x.shape\n",
    "    theta0 = np.zeros(n)\n",
    "    theta = np.zeros(shape = (num_labels, n))\n",
    "    for k in range(num_labels):\n",
    "        if k == 0:\n",
    "            label = (y == 10).astype(int)\n",
    "        else:\n",
    "            label = (y == k).astype(int)\n",
    "        train = fmin_cg(costFunc_reg, theta0, args = (x, label, l), fprime = grad_reg)\n",
    "        theta[k] = train\n",
    "    return theta"
   ]
  },
  {
   "cell_type": "code",
   "execution_count": 130,
   "metadata": {},
   "outputs": [
    {
     "name": "stdout",
     "output_type": "stream",
     "text": [
      "Warning: Desired error not necessarily achieved due to precision loss.\n",
      "         Current function value: 0.029663\n",
      "         Iterations: 46\n",
      "         Function evaluations: 302\n",
      "         Gradient evaluations: 290\n",
      "Optimization terminated successfully.\n",
      "         Current function value: 0.030879\n",
      "         Iterations: 55\n",
      "         Function evaluations: 185\n",
      "         Gradient evaluations: 185\n",
      "Warning: Desired error not necessarily achieved due to precision loss.\n",
      "         Current function value: 0.076552\n",
      "         Iterations: 144\n",
      "         Function evaluations: 447\n",
      "         Gradient evaluations: 436\n",
      "Optimization terminated successfully.\n",
      "         Current function value: 0.086334\n",
      "         Iterations: 83\n",
      "         Function evaluations: 230\n",
      "         Gradient evaluations: 230\n",
      "Optimization terminated successfully.\n",
      "         Current function value: 0.057866\n",
      "         Iterations: 70\n",
      "         Function evaluations: 213\n",
      "         Gradient evaluations: 213\n",
      "Warning: Desired error not necessarily achieved due to precision loss.\n",
      "         Current function value: 0.082335\n",
      "         Iterations: 80\n",
      "         Function evaluations: 332\n",
      "         Gradient evaluations: 321\n",
      "Optimization terminated successfully.\n",
      "         Current function value: 0.041239\n",
      "         Iterations: 60\n",
      "         Function evaluations: 197\n",
      "         Gradient evaluations: 197\n",
      "Optimization terminated successfully.\n",
      "         Current function value: 0.051386\n",
      "         Iterations: 73\n",
      "         Function evaluations: 225\n",
      "         Gradient evaluations: 225\n",
      "Warning: Desired error not necessarily achieved due to precision loss.\n",
      "         Current function value: 0.513243\n",
      "         Iterations: 1\n",
      "         Function evaluations: 14\n",
      "         Gradient evaluations: 2\n",
      "Warning: Desired error not necessarily achieved due to precision loss.\n",
      "         Current function value: 0.105675\n",
      "         Iterations: 134\n",
      "         Function evaluations: 383\n",
      "         Gradient evaluations: 371\n"
     ]
    },
    {
     "data": {
      "text/plain": [
       "(10, 401)"
      ]
     },
     "execution_count": 130,
     "metadata": {},
     "output_type": "execute_result"
    }
   ],
   "source": [
    "theta_opt = oneVsAll(data_x, data_y, 10, 1.5)\n",
    "theta_opt.shape"
   ]
  },
  {
   "cell_type": "code",
   "execution_count": 107,
   "metadata": {},
   "outputs": [
    {
     "data": {
      "text/plain": [
       "array([[  2.23050503e-01,   0.00000000e+00,   0.00000000e+00, ...,\n",
       "         -1.68445519e-04,   8.15224267e-06,   0.00000000e+00],\n",
       "       [ -8.37321385e-03,   0.00000000e+00,   0.00000000e+00, ...,\n",
       "          1.26937744e-03,   7.25984536e-09,   0.00000000e+00],\n",
       "       [ -2.83097942e-01,   0.00000000e+00,   0.00000000e+00, ...,\n",
       "          3.35400903e-03,  -3.83779462e-04,   0.00000000e+00],\n",
       "       ..., \n",
       "       [ -3.95275388e-02,   0.00000000e+00,   0.00000000e+00, ...,\n",
       "         -6.95433345e-04,   8.32631102e-05,   0.00000000e+00],\n",
       "       [ -3.92171739e-03,   0.00000000e+00,   0.00000000e+00, ...,\n",
       "         -1.23820650e-06,   1.27805514e-07,   0.00000000e+00],\n",
       "       [ -5.77760228e-01,   0.00000000e+00,   0.00000000e+00, ...,\n",
       "         -4.08352655e-03,   3.26859522e-04,   0.00000000e+00]])"
      ]
     },
     "execution_count": 107,
     "metadata": {},
     "output_type": "execute_result"
    }
   ],
   "source": [
    "theta_opt"
   ]
  },
  {
   "cell_type": "code",
   "execution_count": 120,
   "metadata": {
    "collapsed": true
   },
   "outputs": [],
   "source": [
    "def predOneVsAll(x, theta):\n",
    "    x0 = [1] * x.shape[0]\n",
    "    df0 = pd.DataFrame(x0)\n",
    "    x = pd.concat([df0, x], axis = 1)\n",
    "    \n",
    "    hx = sigmd(x.dot(theta.T))\n",
    "    \n",
    "    pred = np.argmax(hx, axis = 1)\n",
    "    \n",
    "    pred[pred == 0] = 10\n",
    "    \n",
    "    return pred"
   ]
  },
  {
   "cell_type": "code",
   "execution_count": 131,
   "metadata": {
    "collapsed": true
   },
   "outputs": [],
   "source": [
    "pred_test = predOneVsAll(data_x, theta_opt)"
   ]
  },
  {
   "cell_type": "code",
   "execution_count": 132,
   "metadata": {},
   "outputs": [
    {
     "data": {
      "text/html": [
       "<div>\n",
       "<style>\n",
       "    .dataframe thead tr:only-child th {\n",
       "        text-align: right;\n",
       "    }\n",
       "\n",
       "    .dataframe thead th {\n",
       "        text-align: left;\n",
       "    }\n",
       "\n",
       "    .dataframe tbody tr th {\n",
       "        vertical-align: top;\n",
       "    }\n",
       "</style>\n",
       "<table border=\"1\" class=\"dataframe\">\n",
       "  <thead>\n",
       "    <tr style=\"text-align: right;\">\n",
       "      <th></th>\n",
       "      <th>0</th>\n",
       "    </tr>\n",
       "  </thead>\n",
       "  <tbody>\n",
       "    <tr>\n",
       "      <th>0</th>\n",
       "      <td>10</td>\n",
       "    </tr>\n",
       "    <tr>\n",
       "      <th>1</th>\n",
       "      <td>10</td>\n",
       "    </tr>\n",
       "    <tr>\n",
       "      <th>2</th>\n",
       "      <td>10</td>\n",
       "    </tr>\n",
       "    <tr>\n",
       "      <th>3</th>\n",
       "      <td>10</td>\n",
       "    </tr>\n",
       "    <tr>\n",
       "      <th>4</th>\n",
       "      <td>10</td>\n",
       "    </tr>\n",
       "  </tbody>\n",
       "</table>\n",
       "</div>"
      ],
      "text/plain": [
       "    0\n",
       "0  10\n",
       "1  10\n",
       "2  10\n",
       "3  10\n",
       "4  10"
      ]
     },
     "execution_count": 132,
     "metadata": {},
     "output_type": "execute_result"
    }
   ],
   "source": [
    "pred_test = pd.DataFrame(pred_test)\n",
    "pred_test.head()"
   ]
  },
  {
   "cell_type": "code",
   "execution_count": 124,
   "metadata": {
    "collapsed": true
   },
   "outputs": [],
   "source": [
    "def accuracy(y, pred):\n",
    "    m = len(y)\n",
    "    count = (y == pred).sum()\n",
    "    accuracy = count / m\n",
    "    return accuracy"
   ]
  },
  {
   "cell_type": "code",
   "execution_count": 133,
   "metadata": {},
   "outputs": [
    {
     "data": {
      "text/plain": [
       "0    0.8642\n",
       "dtype: float64"
      ]
     },
     "execution_count": 133,
     "metadata": {},
     "output_type": "execute_result"
    }
   ],
   "source": [
    "accu = accuracy(data_y, pred_test)\n",
    "accu"
   ]
  }
 ],
 "metadata": {
  "kernelspec": {
   "display_name": "Python 3",
   "language": "python",
   "name": "python3"
  },
  "language_info": {
   "codemirror_mode": {
    "name": "ipython",
    "version": 3
   },
   "file_extension": ".py",
   "mimetype": "text/x-python",
   "name": "python",
   "nbconvert_exporter": "python",
   "pygments_lexer": "ipython3",
   "version": "3.6.1"
  }
 },
 "nbformat": 4,
 "nbformat_minor": 2
}
